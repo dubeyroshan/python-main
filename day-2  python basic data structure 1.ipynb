{
 "cells": [
  {
   "cell_type": "code",
   "execution_count": 3,
   "id": "96216485",
   "metadata": {},
   "outputs": [
    {
     "name": "stdout",
     "output_type": "stream",
     "text": [
      "python is fun\n"
     ]
    }
   ],
   "source": [
    "print(\"python is fun\")"
   ]
  },
  {
   "cell_type": "code",
   "execution_count": 4,
   "id": "a749b43a",
   "metadata": {},
   "outputs": [
    {
     "ename": "NameError",
     "evalue": "name 'ai' is not defined",
     "output_type": "error",
     "traceback": [
      "\u001b[1;31m---------------------------------------------------------------------------\u001b[0m",
      "\u001b[1;31mNameError\u001b[0m                                 Traceback (most recent call last)",
      "Cell \u001b[1;32mIn[4], line 1\u001b[0m\n\u001b[1;32m----> 1\u001b[0m \u001b[38;5;28mprint\u001b[39m(\u001b[43mai\u001b[49m)\n",
      "\u001b[1;31mNameError\u001b[0m: name 'ai' is not defined"
     ]
    }
   ],
   "source": [
    "print(ai)"
   ]
  },
  {
   "cell_type": "code",
   "execution_count": 5,
   "id": "63b1247d",
   "metadata": {},
   "outputs": [
    {
     "ename": "SyntaxError",
     "evalue": "unterminated string literal (detected at line 1) (1205355189.py, line 1)",
     "output_type": "error",
     "traceback": [
      "\u001b[1;36m  Cell \u001b[1;32mIn[5], line 1\u001b[1;36m\u001b[0m\n\u001b[1;33m    print(\"ai')\u001b[0m\n\u001b[1;37m          ^\u001b[0m\n\u001b[1;31mSyntaxError\u001b[0m\u001b[1;31m:\u001b[0m unterminated string literal (detected at line 1)\n"
     ]
    }
   ],
   "source": [
    "print(\"ai')"
   ]
  },
  {
   "cell_type": "code",
   "execution_count": 7,
   "id": "7a369db6",
   "metadata": {},
   "outputs": [
    {
     "name": "stdout",
     "output_type": "stream",
     "text": [
      "pyhton is fun\n"
     ]
    }
   ],
   "source": [
    "print(\"pyhton\"+\" is fun\")"
   ]
  },
  {
   "cell_type": "code",
   "execution_count": 11,
   "id": "cb98b93c",
   "metadata": {},
   "outputs": [
    {
     "ename": "TypeError",
     "evalue": "can only concatenate str (not \"int\") to str",
     "output_type": "error",
     "traceback": [
      "\u001b[1;31m---------------------------------------------------------------------------\u001b[0m",
      "\u001b[1;31mTypeError\u001b[0m                                 Traceback (most recent call last)",
      "Cell \u001b[1;32mIn[11], line 1\u001b[0m\n\u001b[1;32m----> 1\u001b[0m \u001b[38;5;28mprint\u001b[39m(\u001b[38;5;124;43m\"\u001b[39;49m\u001b[38;5;124;43msam\u001b[39;49m\u001b[38;5;124;43m'\u001b[39;49m\u001b[38;5;124;43ms age is \u001b[39;49m\u001b[38;5;124;43m\"\u001b[39;49m\u001b[43m \u001b[49m\u001b[38;5;241;43m+\u001b[39;49m\u001b[38;5;241;43m25\u001b[39;49m)\n",
      "\u001b[1;31mTypeError\u001b[0m: can only concatenate str (not \"int\") to str"
     ]
    }
   ],
   "source": [
    "print(\"sam's age is \" +25)"
   ]
  },
  {
   "cell_type": "code",
   "execution_count": 12,
   "id": "6a2087fb",
   "metadata": {},
   "outputs": [
    {
     "name": "stdout",
     "output_type": "stream",
     "text": [
      "sam's age is 25\n"
     ]
    }
   ],
   "source": [
    "print(\"sam's age is \" +\"25\")"
   ]
  },
  {
   "cell_type": "code",
   "execution_count": 13,
   "id": "d8ae66ec",
   "metadata": {},
   "outputs": [
    {
     "name": "stdout",
     "output_type": "stream",
     "text": [
      "sam's age is 25\n"
     ]
    }
   ],
   "source": [
    "print(\"sam's age is \" +str(25))"
   ]
  },
  {
   "cell_type": "markdown",
   "id": "6510b0f1",
   "metadata": {},
   "source": [
    "### Python operators"
   ]
  },
  {
   "cell_type": "code",
   "execution_count": null,
   "id": "e0a5f4c7",
   "metadata": {},
   "outputs": [],
   "source": [
    "## arithematic operator"
   ]
  },
  {
   "cell_type": "markdown",
   "id": "d2b65e3e",
   "metadata": {},
   "source": [
    "### addition"
   ]
  },
  {
   "cell_type": "code",
   "execution_count": 14,
   "id": "73fb8ade",
   "metadata": {},
   "outputs": [
    {
     "name": "stdout",
     "output_type": "stream",
     "text": [
      "67\n"
     ]
    },
    {
     "data": {
      "text/plain": [
       "int"
      ]
     },
     "execution_count": 14,
     "metadata": {},
     "output_type": "execute_result"
    }
   ],
   "source": [
    "x=60\n",
    "y=7\n",
    "z=x+y\n",
    "print(z)\n",
    "type(z)\n"
   ]
  },
  {
   "cell_type": "code",
   "execution_count": 15,
   "id": "3a9f6e9d",
   "metadata": {},
   "outputs": [
    {
     "name": "stdout",
     "output_type": "stream",
     "text": [
      "53\n"
     ]
    },
    {
     "data": {
      "text/plain": [
       "int"
      ]
     },
     "execution_count": 15,
     "metadata": {},
     "output_type": "execute_result"
    }
   ],
   "source": [
    "x=60\n",
    "y=7\n",
    "z=x-y\n",
    "print(z)\n",
    "type(z)\n"
   ]
  },
  {
   "cell_type": "code",
   "execution_count": 26,
   "id": "b7d1d1cc",
   "metadata": {},
   "outputs": [
    {
     "data": {
      "text/plain": [
       "'roshan dubey'"
      ]
     },
     "execution_count": 26,
     "metadata": {},
     "output_type": "execute_result"
    }
   ],
   "source": [
    "first_name=\"roshan\"\n",
    "second_name=\" dubey\"\n",
    "name=first_name+second_name\n",
    "name\n"
   ]
  },
  {
   "cell_type": "markdown",
   "id": "1fbb5ca0",
   "metadata": {},
   "source": [
    "### subtraction"
   ]
  },
  {
   "cell_type": "code",
   "execution_count": 14,
   "id": "4d7ed2af",
   "metadata": {},
   "outputs": [
    {
     "ename": "TypeError",
     "evalue": "unsupported operand type(s) for -: 'str' and 'str'",
     "output_type": "error",
     "traceback": [
      "\u001b[1;31m---------------------------------------------------------------------------\u001b[0m",
      "\u001b[1;31mTypeError\u001b[0m                                 Traceback (most recent call last)",
      "Cell \u001b[1;32mIn[14], line 3\u001b[0m\n\u001b[0;32m      1\u001b[0m first_name\u001b[38;5;241m=\u001b[39m\u001b[38;5;124m\"\u001b[39m\u001b[38;5;124mprem\u001b[39m\u001b[38;5;124m\"\u001b[39m\n\u001b[0;32m      2\u001b[0m second_name\u001b[38;5;241m=\u001b[39m\u001b[38;5;124m\"\u001b[39m\u001b[38;5;124mlatha\u001b[39m\u001b[38;5;124m\"\u001b[39m\n\u001b[1;32m----> 3\u001b[0m full_name\u001b[38;5;241m=\u001b[39m\u001b[43mfirst_name\u001b[49m\u001b[38;5;241;43m-\u001b[39;49m\u001b[43msecond_name\u001b[49m\n\u001b[0;32m      4\u001b[0m full_name\n",
      "\u001b[1;31mTypeError\u001b[0m: unsupported operand type(s) for -: 'str' and 'str'"
     ]
    }
   ],
   "source": [
    "first_name=\"prem\"\n",
    "second_name=\"latha\"\n",
    "full_name=first_name-second_name\n",
    "full_name"
   ]
  },
  {
   "cell_type": "code",
   "execution_count": 17,
   "id": "bd7db59b",
   "metadata": {},
   "outputs": [
    {
     "name": "stdout",
     "output_type": "stream",
     "text": [
      "53\n"
     ]
    },
    {
     "data": {
      "text/plain": [
       "int"
      ]
     },
     "execution_count": 17,
     "metadata": {},
     "output_type": "execute_result"
    }
   ],
   "source": [
    "x=60\n",
    "y=7\n",
    "z=x-y\n",
    "print(z)\n",
    "type(z)\n"
   ]
  },
  {
   "cell_type": "markdown",
   "id": "54f58c67",
   "metadata": {},
   "source": [
    "### multiplication"
   ]
  },
  {
   "cell_type": "code",
   "execution_count": 18,
   "id": "4fc66fb7",
   "metadata": {},
   "outputs": [
    {
     "name": "stdout",
     "output_type": "stream",
     "text": [
      "420\n"
     ]
    },
    {
     "data": {
      "text/plain": [
       "int"
      ]
     },
     "execution_count": 18,
     "metadata": {},
     "output_type": "execute_result"
    }
   ],
   "source": [
    "x=60\n",
    "y=7\n",
    "z=x*y\n",
    "print(z)\n",
    "type(z)\n"
   ]
  },
  {
   "cell_type": "code",
   "execution_count": 27,
   "id": "1dec8324",
   "metadata": {},
   "outputs": [
    {
     "data": {
      "text/plain": [
       "'roshan roshan roshan '"
      ]
     },
     "execution_count": 27,
     "metadata": {},
     "output_type": "execute_result"
    }
   ],
   "source": [
    "x=\"roshan \"\n",
    "y=3\n",
    "z=x*y\n",
    "z"
   ]
  },
  {
   "cell_type": "code",
   "execution_count": 17,
   "id": "d0cca941",
   "metadata": {},
   "outputs": [
    {
     "data": {
      "text/plain": [
       "'roshan   roshan   roshan   '"
      ]
     },
     "execution_count": 17,
     "metadata": {},
     "output_type": "execute_result"
    }
   ],
   "source": [
    "x=\"roshan   \"\n",
    "y=3\n",
    "z=x*y\n",
    "z"
   ]
  },
  {
   "cell_type": "markdown",
   "id": "1ae02ce7",
   "metadata": {},
   "source": [
    "### division"
   ]
  },
  {
   "cell_type": "code",
   "execution_count": 19,
   "id": "ad4b7d26",
   "metadata": {},
   "outputs": [
    {
     "data": {
      "text/plain": [
       "2.0"
      ]
     },
     "execution_count": 19,
     "metadata": {},
     "output_type": "execute_result"
    }
   ],
   "source": [
    "x=6\n",
    "y=3\n",
    "z=x/y\n",
    "z"
   ]
  },
  {
   "cell_type": "code",
   "execution_count": 18,
   "id": "dbacc1cf",
   "metadata": {},
   "outputs": [
    {
     "ename": "TypeError",
     "evalue": "unsupported operand type(s) for /: 'str' and 'int'",
     "output_type": "error",
     "traceback": [
      "\u001b[1;31m---------------------------------------------------------------------------\u001b[0m",
      "\u001b[1;31mTypeError\u001b[0m                                 Traceback (most recent call last)",
      "Cell \u001b[1;32mIn[18], line 3\u001b[0m\n\u001b[0;32m      1\u001b[0m x\u001b[38;5;241m=\u001b[39m\u001b[38;5;124m\"\u001b[39m\u001b[38;5;124mroshan\u001b[39m\u001b[38;5;124m\"\u001b[39m\n\u001b[0;32m      2\u001b[0m y\u001b[38;5;241m=\u001b[39m\u001b[38;5;241m3\u001b[39m\n\u001b[1;32m----> 3\u001b[0m z\u001b[38;5;241m=\u001b[39m\u001b[43mx\u001b[49m\u001b[38;5;241;43m/\u001b[39;49m\u001b[43my\u001b[49m\n\u001b[0;32m      4\u001b[0m z\n",
      "\u001b[1;31mTypeError\u001b[0m: unsupported operand type(s) for /: 'str' and 'int'"
     ]
    }
   ],
   "source": [
    "x=\"roshan\"\n",
    "y=3\n",
    "z=x/y\n",
    "z"
   ]
  },
  {
   "cell_type": "markdown",
   "id": "2eec8de1",
   "metadata": {},
   "source": [
    "### modulus"
   ]
  },
  {
   "cell_type": "code",
   "execution_count": 8,
   "id": "1b5508fb",
   "metadata": {},
   "outputs": [
    {
     "name": "stdout",
     "output_type": "stream",
     "text": [
      "4\n"
     ]
    },
    {
     "data": {
      "text/plain": [
       "int"
      ]
     },
     "execution_count": 8,
     "metadata": {},
     "output_type": "execute_result"
    }
   ],
   "source": [
    "x=28\n",
    "y=6\n",
    "z=x%y\n",
    "print(z)\n",
    "type(z)"
   ]
  },
  {
   "cell_type": "code",
   "execution_count": 20,
   "id": "292b60ba",
   "metadata": {},
   "outputs": [
    {
     "data": {
      "text/plain": [
       "4"
      ]
     },
     "execution_count": 20,
     "metadata": {},
     "output_type": "execute_result"
    }
   ],
   "source": [
    "ROSHAN=4\n",
    "DUBEY=7\n",
    "ROSHAN%DUBEY"
   ]
  },
  {
   "cell_type": "markdown",
   "id": "8154825c",
   "metadata": {},
   "source": [
    "##### modulus numerator > denominator it returns remainder else returns NUMERATOR"
   ]
  },
  {
   "cell_type": "markdown",
   "id": "292f17a8",
   "metadata": {},
   "source": [
    "### floor division"
   ]
  },
  {
   "cell_type": "code",
   "execution_count": 20,
   "id": "a8996f0a",
   "metadata": {},
   "outputs": [
    {
     "data": {
      "text/plain": [
       "4"
      ]
     },
     "execution_count": 20,
     "metadata": {},
     "output_type": "execute_result"
    }
   ],
   "source": [
    "x=28\n",
    "y=6\n",
    "z=x//y\n",
    "z"
   ]
  },
  {
   "cell_type": "code",
   "execution_count": 21,
   "id": "cc3e1c71",
   "metadata": {},
   "outputs": [
    {
     "data": {
      "text/plain": [
       "0"
      ]
     },
     "execution_count": 21,
     "metadata": {},
     "output_type": "execute_result"
    }
   ],
   "source": [
    "ROSHAN=4\n",
    "DUBEY=7\n",
    "ROSHAN//DUBEY"
   ]
  },
  {
   "cell_type": "markdown",
   "id": "147be281",
   "metadata": {},
   "source": [
    "##### floor division - numerator > denominator it returns quotient else 0"
   ]
  },
  {
   "cell_type": "markdown",
   "id": "322f9a5c",
   "metadata": {},
   "source": [
    "### exponentiation"
   ]
  },
  {
   "cell_type": "code",
   "execution_count": 9,
   "id": "6c0e083f",
   "metadata": {},
   "outputs": [
    {
     "data": {
      "text/plain": [
       "32"
      ]
     },
     "execution_count": 9,
     "metadata": {},
     "output_type": "execute_result"
    }
   ],
   "source": [
    "x=2\n",
    "y=5\n",
    "z=x**y\n",
    "z"
   ]
  },
  {
   "cell_type": "code",
   "execution_count": 22,
   "id": "4a490c68",
   "metadata": {
    "scrolled": true
   },
   "outputs": [
    {
     "data": {
      "text/plain": [
       "32768"
      ]
     },
     "execution_count": 22,
     "metadata": {},
     "output_type": "execute_result"
    }
   ],
   "source": [
    "x=8\n",
    "y=5\n",
    "z=x**y\n",
    "z"
   ]
  },
  {
   "cell_type": "code",
   "execution_count": null,
   "id": "4cad32f4",
   "metadata": {},
   "outputs": [],
   "source": []
  },
  {
   "cell_type": "code",
   "execution_count": null,
   "id": "96ed0598",
   "metadata": {},
   "outputs": [],
   "source": [
    "## relational operator"
   ]
  },
  {
   "cell_type": "code",
   "execution_count": 32,
   "id": "a9d1c51d",
   "metadata": {},
   "outputs": [
    {
     "data": {
      "text/plain": [
       "True"
      ]
     },
     "execution_count": 32,
     "metadata": {},
     "output_type": "execute_result"
    }
   ],
   "source": [
    "x=25\n",
    "y=30\n",
    "x<y\n"
   ]
  },
  {
   "cell_type": "code",
   "execution_count": 38,
   "id": "c377f9d7",
   "metadata": {},
   "outputs": [
    {
     "data": {
      "text/plain": [
       "False"
      ]
     },
     "execution_count": 38,
     "metadata": {},
     "output_type": "execute_result"
    }
   ],
   "source": [
    "x=25\n",
    "y=30      ### equal means double equAl\n",
    "x==y\n"
   ]
  },
  {
   "cell_type": "code",
   "execution_count": 36,
   "id": "03a0002f",
   "metadata": {},
   "outputs": [
    {
     "data": {
      "text/plain": [
       "False"
      ]
     },
     "execution_count": 36,
     "metadata": {},
     "output_type": "execute_result"
    }
   ],
   "source": [
    "x=25\n",
    "y=30\n",
    "x>=y\n"
   ]
  },
  {
   "cell_type": "code",
   "execution_count": 37,
   "id": "a87db3d2",
   "metadata": {},
   "outputs": [
    {
     "data": {
      "text/plain": [
       "True"
      ]
     },
     "execution_count": 37,
     "metadata": {},
     "output_type": "execute_result"
    }
   ],
   "source": [
    "x=25\n",
    "y=30\n",
    "x<=y\n"
   ]
  },
  {
   "cell_type": "code",
   "execution_count": 39,
   "id": "66217733",
   "metadata": {},
   "outputs": [
    {
     "data": {
      "text/plain": [
       "True"
      ]
     },
     "execution_count": 39,
     "metadata": {},
     "output_type": "execute_result"
    }
   ],
   "source": [
    "x=25\n",
    "y=30\n",
    "x!=y\n"
   ]
  },
  {
   "cell_type": "code",
   "execution_count": null,
   "id": "8a399a55",
   "metadata": {},
   "outputs": [],
   "source": []
  },
  {
   "cell_type": "code",
   "execution_count": null,
   "id": "7e4c544e",
   "metadata": {},
   "outputs": [],
   "source": [
    "## logical operator  \n",
    "### (and) and (not)"
   ]
  },
  {
   "cell_type": "code",
   "execution_count": 40,
   "id": "542d1c9a",
   "metadata": {},
   "outputs": [],
   "source": [
    "is_student=True\n",
    "in_college=True\n",
    "in_school=False"
   ]
  },
  {
   "cell_type": "code",
   "execution_count": 41,
   "id": "567f0ec9",
   "metadata": {},
   "outputs": [
    {
     "data": {
      "text/plain": [
       "True"
      ]
     },
     "execution_count": 41,
     "metadata": {},
     "output_type": "execute_result"
    }
   ],
   "source": [
    "is_student and in_college"
   ]
  },
  {
   "cell_type": "code",
   "execution_count": 42,
   "id": "0b45e7dc",
   "metadata": {},
   "outputs": [
    {
     "data": {
      "text/plain": [
       "False"
      ]
     },
     "execution_count": 42,
     "metadata": {},
     "output_type": "execute_result"
    }
   ],
   "source": [
    "is_student and in_school"
   ]
  },
  {
   "cell_type": "code",
   "execution_count": 43,
   "id": "7035bb91",
   "metadata": {},
   "outputs": [
    {
     "data": {
      "text/plain": [
       "True"
      ]
     },
     "execution_count": 43,
     "metadata": {},
     "output_type": "execute_result"
    }
   ],
   "source": [
    "is_student or in_school"
   ]
  },
  {
   "cell_type": "code",
   "execution_count": 44,
   "id": "3c36b670",
   "metadata": {},
   "outputs": [
    {
     "data": {
      "text/plain": [
       "True"
      ]
     },
     "execution_count": 44,
     "metadata": {},
     "output_type": "execute_result"
    }
   ],
   "source": [
    "is_student or in_college"
   ]
  },
  {
   "cell_type": "code",
   "execution_count": 45,
   "id": "d771b0e0",
   "metadata": {},
   "outputs": [
    {
     "data": {
      "text/plain": [
       "True"
      ]
     },
     "execution_count": 45,
     "metadata": {},
     "output_type": "execute_result"
    }
   ],
   "source": [
    "not(in_school)"
   ]
  },
  {
   "cell_type": "code",
   "execution_count": 47,
   "id": "05083b0e",
   "metadata": {},
   "outputs": [
    {
     "data": {
      "text/plain": [
       "False"
      ]
     },
     "execution_count": 47,
     "metadata": {},
     "output_type": "execute_result"
    }
   ],
   "source": [
    "not(in_college)"
   ]
  },
  {
   "cell_type": "code",
   "execution_count": null,
   "id": "8e92334e",
   "metadata": {},
   "outputs": [],
   "source": []
  },
  {
   "cell_type": "code",
   "execution_count": null,
   "id": "4c24b716",
   "metadata": {},
   "outputs": [],
   "source": [
    "## membership operator"
   ]
  },
  {
   "cell_type": "code",
   "execution_count": 48,
   "id": "29f09f0c",
   "metadata": {},
   "outputs": [
    {
     "name": "stdout",
     "output_type": "stream",
     "text": [
      "True\n"
     ]
    }
   ],
   "source": [
    "vowels=\"aeiou\"\n",
    "print(\"u\"in vowels)"
   ]
  },
  {
   "cell_type": "code",
   "execution_count": 49,
   "id": "9c1875f5",
   "metadata": {},
   "outputs": [
    {
     "name": "stdout",
     "output_type": "stream",
     "text": [
      "False\n"
     ]
    }
   ],
   "source": [
    "print(\"f\"in vowels)"
   ]
  },
  {
   "cell_type": "code",
   "execution_count": 50,
   "id": "a33ef5c5",
   "metadata": {},
   "outputs": [
    {
     "name": "stdout",
     "output_type": "stream",
     "text": [
      "False\n"
     ]
    }
   ],
   "source": [
    "print(\"u\"not in vowels)"
   ]
  },
  {
   "cell_type": "code",
   "execution_count": null,
   "id": "b676c2d6",
   "metadata": {},
   "outputs": [],
   "source": []
  },
  {
   "cell_type": "code",
   "execution_count": null,
   "id": "8fd84e0e",
   "metadata": {},
   "outputs": [],
   "source": [
    "## Assignment operators"
   ]
  },
  {
   "cell_type": "code",
   "execution_count": null,
   "id": "15e1f7a3",
   "metadata": {},
   "outputs": [],
   "source": [
    "a+=b  -> a=a+b"
   ]
  },
  {
   "cell_type": "code",
   "execution_count": 52,
   "id": "14519efb",
   "metadata": {},
   "outputs": [
    {
     "data": {
      "text/plain": [
       "10"
      ]
     },
     "execution_count": 52,
     "metadata": {},
     "output_type": "execute_result"
    }
   ],
   "source": [
    "a=5\n",
    "b=5\n",
    "a=a+b\n",
    "a"
   ]
  },
  {
   "cell_type": "code",
   "execution_count": 53,
   "id": "cab995ea",
   "metadata": {},
   "outputs": [
    {
     "data": {
      "text/plain": [
       "10"
      ]
     },
     "execution_count": 53,
     "metadata": {},
     "output_type": "execute_result"
    }
   ],
   "source": [
    "a=5\n",
    "b=5\n",
    "a+=b\n",
    "a"
   ]
  },
  {
   "cell_type": "code",
   "execution_count": 59,
   "id": "42535ac8",
   "metadata": {},
   "outputs": [
    {
     "data": {
      "text/plain": [
       "0"
      ]
     },
     "execution_count": 59,
     "metadata": {},
     "output_type": "execute_result"
    }
   ],
   "source": [
    "a=5\n",
    "b=5\n",
    "a-=b\n",
    "a"
   ]
  },
  {
   "cell_type": "code",
   "execution_count": 64,
   "id": "c225acf0",
   "metadata": {},
   "outputs": [
    {
     "data": {
      "text/plain": [
       "1.0"
      ]
     },
     "execution_count": 64,
     "metadata": {},
     "output_type": "execute_result"
    }
   ],
   "source": [
    "a=5\n",
    "b=5\n",
    "a/=b\n",
    "a"
   ]
  },
  {
   "cell_type": "code",
   "execution_count": 65,
   "id": "9517799c",
   "metadata": {},
   "outputs": [
    {
     "data": {
      "text/plain": [
       "25"
      ]
     },
     "execution_count": 65,
     "metadata": {},
     "output_type": "execute_result"
    }
   ],
   "source": [
    "a=5\n",
    "b=5\n",
    "a*=b\n",
    "a"
   ]
  },
  {
   "cell_type": "code",
   "execution_count": 67,
   "id": "205b9c51",
   "metadata": {},
   "outputs": [
    {
     "data": {
      "text/plain": [
       "1"
      ]
     },
     "execution_count": 67,
     "metadata": {},
     "output_type": "execute_result"
    }
   ],
   "source": [
    "a=5\n",
    "b=5\n",
    "a//=b\n",
    "a"
   ]
  },
  {
   "cell_type": "code",
   "execution_count": 68,
   "id": "a205482a",
   "metadata": {},
   "outputs": [
    {
     "data": {
      "text/plain": [
       "3125"
      ]
     },
     "execution_count": 68,
     "metadata": {},
     "output_type": "execute_result"
    }
   ],
   "source": [
    "a=5\n",
    "b=5\n",
    "a**=b\n",
    "a"
   ]
  },
  {
   "cell_type": "code",
   "execution_count": 70,
   "id": "82a2e041",
   "metadata": {},
   "outputs": [
    {
     "data": {
      "text/plain": [
       "0"
      ]
     },
     "execution_count": 70,
     "metadata": {},
     "output_type": "execute_result"
    }
   ],
   "source": [
    "a=5\n",
    "b=5\n",
    "a%=b\n",
    "a"
   ]
  },
  {
   "cell_type": "code",
   "execution_count": null,
   "id": "bf8477c4",
   "metadata": {},
   "outputs": [],
   "source": [
    "####### conditional statements"
   ]
  },
  {
   "cell_type": "code",
   "execution_count": 72,
   "id": "5323d105",
   "metadata": {},
   "outputs": [
    {
     "name": "stdout",
     "output_type": "stream",
     "text": [
      "10 is greater than zero\n"
     ]
    }
   ],
   "source": [
    "x=10\n",
    "if(x>1):\n",
    "    print(x,\"is greater than zero\")"
   ]
  },
  {
   "cell_type": "code",
   "execution_count": 73,
   "id": "b2e5a0f6",
   "metadata": {},
   "outputs": [],
   "source": [
    "x=10\n",
    "if(x<1):\n",
    "    print(x,\"is greater than zero\")"
   ]
  },
  {
   "cell_type": "code",
   "execution_count": 74,
   "id": "30f65bea",
   "metadata": {},
   "outputs": [
    {
     "name": "stdout",
     "output_type": "stream",
     "text": [
      "0 is lesser than 1\n"
     ]
    }
   ],
   "source": [
    "x=0\n",
    "if(x>1):\n",
    "    print(x,\"is greater than zero\")\n",
    "else:\n",
    "    print(x,\"is lesser than 1\")\n"
   ]
  },
  {
   "cell_type": "code",
   "execution_count": 91,
   "id": "fcfe834f",
   "metadata": {},
   "outputs": [
    {
     "name": "stdout",
     "output_type": "stream",
     "text": [
      "enter age:0\n",
      "bus fare is 30\n"
     ]
    }
   ],
   "source": [
    "age=int(input(\"enter age:\"))\n",
    "if(0<age==3):\n",
    "    print(\"no fare for the age group\")\n",
    "elif(3<age==10):\n",
    "    print(\"bus fare is 10\")\n",
    "elif(10<age==20):\n",
    "    print(\"bus fare is 20\")\n",
    "else:\n",
    "    print(\"bus fare is 30\")"
   ]
  },
  {
   "cell_type": "code",
   "execution_count": 87,
   "id": "973e868e",
   "metadata": {},
   "outputs": [
    {
     "name": "stdout",
     "output_type": "stream",
     "text": [
      "enter age:20\n",
      "bus fare is 20\n"
     ]
    }
   ],
   "source": [
    "age=int(input(\"enter age:\"))\n",
    "if(0<age==3):\n",
    "    print(\"no fare for the age group\")\n",
    "elif(3<age==10):\n",
    "    print(\"bus fare is 10\")\n",
    "elif(10<age==20):\n",
    "    print(\"bus fare is 20\")\n",
    "else:\n",
    "    print(\"bus fare is 30\")"
   ]
  },
  {
   "cell_type": "code",
   "execution_count": 88,
   "id": "bf082f19",
   "metadata": {},
   "outputs": [
    {
     "name": "stdout",
     "output_type": "stream",
     "text": [
      "enter age:0\n",
      "bus fare is 30\n"
     ]
    }
   ],
   "source": [
    "age=int(input(\"enter age:\"))\n",
    "if(0<age==3):\n",
    "    print(\"no fare for the age group\")\n",
    "elif(3<age== 10):\n",
    "    print(\"bus fare is 10\")\n",
    "elif(10<age==20):\n",
    "    print(\"bus fare is 20\")\n",
    "else:\n",
    "    print(\"bus fare is 30\")"
   ]
  },
  {
   "cell_type": "code",
   "execution_count": 90,
   "id": "7a42b393",
   "metadata": {},
   "outputs": [
    {
     "name": "stdout",
     "output_type": "stream",
     "text": [
      "enter age:0\n",
      "bus fare is 30\n"
     ]
    }
   ],
   "source": [
    "age=int(input(\"enter age:\"))\n",
    "if(0<age<3):\n",
    "    print(\"no fare for the age group\")\n",
    "elif(3<age<10):\n",
    "    print(\"bus fare is 10\")\n",
    "elif(10<age<20):\n",
    "    print(\"bus fare is 20\")\n",
    "else:\n",
    "    print(\"bus fare is 30\")"
   ]
  },
  {
   "cell_type": "code",
   "execution_count": null,
   "id": "9ba514d4",
   "metadata": {},
   "outputs": [],
   "source": []
  },
  {
   "cell_type": "code",
   "execution_count": null,
   "id": "4144cf3e",
   "metadata": {},
   "outputs": [],
   "source": []
  },
  {
   "cell_type": "code",
   "execution_count": null,
   "id": "91a5e3c6",
   "metadata": {},
   "outputs": [],
   "source": []
  },
  {
   "cell_type": "code",
   "execution_count": null,
   "id": "26db6622",
   "metadata": {},
   "outputs": [],
   "source": []
  },
  {
   "cell_type": "code",
   "execution_count": null,
   "id": "fc17d582",
   "metadata": {},
   "outputs": [],
   "source": []
  },
  {
   "cell_type": "code",
   "execution_count": null,
   "id": "e783366b",
   "metadata": {},
   "outputs": [],
   "source": []
  },
  {
   "cell_type": "code",
   "execution_count": null,
   "id": "e3708a5c",
   "metadata": {},
   "outputs": [],
   "source": []
  },
  {
   "cell_type": "code",
   "execution_count": null,
   "id": "3e05cc65",
   "metadata": {},
   "outputs": [],
   "source": []
  },
  {
   "cell_type": "code",
   "execution_count": null,
   "id": "02807257",
   "metadata": {},
   "outputs": [],
   "source": []
  },
  {
   "cell_type": "code",
   "execution_count": null,
   "id": "b20674c2",
   "metadata": {},
   "outputs": [],
   "source": []
  },
  {
   "cell_type": "code",
   "execution_count": null,
   "id": "6d99491a",
   "metadata": {},
   "outputs": [],
   "source": []
  },
  {
   "cell_type": "code",
   "execution_count": null,
   "id": "c3e20049",
   "metadata": {},
   "outputs": [],
   "source": []
  },
  {
   "cell_type": "code",
   "execution_count": null,
   "id": "f14611a9",
   "metadata": {},
   "outputs": [],
   "source": []
  },
  {
   "cell_type": "code",
   "execution_count": null,
   "id": "b994985a",
   "metadata": {},
   "outputs": [],
   "source": []
  },
  {
   "cell_type": "code",
   "execution_count": null,
   "id": "42ce40b6",
   "metadata": {},
   "outputs": [],
   "source": []
  },
  {
   "cell_type": "code",
   "execution_count": null,
   "id": "78972c66",
   "metadata": {},
   "outputs": [],
   "source": []
  },
  {
   "cell_type": "code",
   "execution_count": null,
   "id": "27e91bbd",
   "metadata": {},
   "outputs": [],
   "source": []
  },
  {
   "cell_type": "code",
   "execution_count": null,
   "id": "c25e1be7",
   "metadata": {},
   "outputs": [],
   "source": []
  },
  {
   "cell_type": "code",
   "execution_count": null,
   "id": "806e4bf2",
   "metadata": {},
   "outputs": [],
   "source": []
  },
  {
   "cell_type": "code",
   "execution_count": null,
   "id": "bcb75893",
   "metadata": {},
   "outputs": [],
   "source": []
  }
 ],
 "metadata": {
  "kernelspec": {
   "display_name": "Python 3 (ipykernel)",
   "language": "python",
   "name": "python3"
  },
  "language_info": {
   "codemirror_mode": {
    "name": "ipython",
    "version": 3
   },
   "file_extension": ".py",
   "mimetype": "text/x-python",
   "name": "python",
   "nbconvert_exporter": "python",
   "pygments_lexer": "ipython3",
   "version": "3.10.9"
  }
 },
 "nbformat": 4,
 "nbformat_minor": 5
}
