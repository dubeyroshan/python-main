{
 "cells": [
  {
   "cell_type": "markdown",
   "id": "2e3b1932",
   "metadata": {},
   "source": [
    "### hello world"
   ]
  },
  {
   "cell_type": "markdown",
   "id": "294a27df",
   "metadata": {},
   "source": [
    "# hhi"
   ]
  },
  {
   "cell_type": "markdown",
   "id": "b93b8623",
   "metadata": {},
   "source": [
    "#### hi"
   ]
  },
  {
   "cell_type": "markdown",
   "id": "70572f2c",
   "metadata": {},
   "source": [
    "##### hi"
   ]
  },
  {
   "cell_type": "markdown",
   "id": "38af496b",
   "metadata": {},
   "source": [
    "###### hi"
   ]
  },
  {
   "cell_type": "code",
   "execution_count": 1,
   "id": "575e80b5",
   "metadata": {},
   "outputs": [
    {
     "name": "stdout",
     "output_type": "stream",
     "text": [
      "Hello world\n"
     ]
    }
   ],
   "source": [
    "print(\"Hello world\")"
   ]
  },
  {
   "cell_type": "code",
   "execution_count": 2,
   "id": "4c62fc7b",
   "metadata": {},
   "outputs": [
    {
     "name": "stdout",
     "output_type": "stream",
     "text": [
      "Roshan\n"
     ]
    }
   ],
   "source": [
    "print(\"Roshan\")"
   ]
  },
  {
   "cell_type": "code",
   "execution_count": 3,
   "id": "6935e6b3",
   "metadata": {},
   "outputs": [
    {
     "name": "stdout",
     "output_type": "stream",
     "text": [
      "datascience\n"
     ]
    }
   ],
   "source": [
    "print(\"datascience\")"
   ]
  },
  {
   "cell_type": "markdown",
   "id": "d090331b",
   "metadata": {},
   "source": [
    "#### variable"
   ]
  },
  {
   "cell_type": "code",
   "execution_count": 1,
   "id": "fc8face5",
   "metadata": {},
   "outputs": [],
   "source": [
    "name=\"roshan\"\n",
    "age=21\n",
    "income=20000"
   ]
  },
  {
   "cell_type": "code",
   "execution_count": 2,
   "id": "bab96079",
   "metadata": {},
   "outputs": [
    {
     "data": {
      "text/plain": [
       "20000"
      ]
     },
     "execution_count": 2,
     "metadata": {},
     "output_type": "execute_result"
    }
   ],
   "source": [
    "name \n",
    "age\n",
    "income"
   ]
  },
  {
   "cell_type": "code",
   "execution_count": 8,
   "id": "c7a0633e",
   "metadata": {},
   "outputs": [
    {
     "name": "stdout",
     "output_type": "stream",
     "text": [
      "roshan\n",
      "21\n",
      "20000\n"
     ]
    }
   ],
   "source": [
    "print(name)\n",
    "print(age)\n",
    "print(income)"
   ]
  },
  {
   "cell_type": "code",
   "execution_count": 11,
   "id": "321f20d5",
   "metadata": {},
   "outputs": [],
   "source": [
    "namelist=\"roshan\",\"dubey\"\n"
   ]
  },
  {
   "cell_type": "markdown",
   "id": "794bf717",
   "metadata": {},
   "source": []
  },
  {
   "cell_type": "code",
   "execution_count": 3,
   "id": "b249e711",
   "metadata": {},
   "outputs": [
    {
     "data": {
      "text/plain": [
       "('roshan', 'dubey')"
      ]
     },
     "execution_count": 3,
     "metadata": {},
     "output_type": "execute_result"
    }
   ],
   "source": [
    "namelist=\"roshan\",\"dubey\"\n",
    "namelist"
   ]
  },
  {
   "cell_type": "code",
   "execution_count": 7,
   "id": "e0a4f575",
   "metadata": {},
   "outputs": [
    {
     "data": {
      "text/plain": [
       "('roshan', 'dubey')"
      ]
     },
     "execution_count": 7,
     "metadata": {},
     "output_type": "execute_result"
    }
   ],
   "source": [
    "namelist"
   ]
  },
  {
   "cell_type": "code",
   "execution_count": 8,
   "id": "324f1df8",
   "metadata": {},
   "outputs": [
    {
     "ename": "SyntaxError",
     "evalue": "invalid syntax (3789876968.py, line 1)",
     "output_type": "error",
     "traceback": [
      "\u001b[1;36m  Cell \u001b[1;32mIn[8], line 1\u001b[1;36m\u001b[0m\n\u001b[1;33m    name list\u001b[0m\n\u001b[1;37m         ^\u001b[0m\n\u001b[1;31mSyntaxError\u001b[0m\u001b[1;31m:\u001b[0m invalid syntax\n"
     ]
    }
   ],
   "source": [
    "name list"
   ]
  },
  {
   "cell_type": "markdown",
   "id": "dfb9014d",
   "metadata": {},
   "source": [
    "### space is n0t allowed"
   ]
  },
  {
   "cell_type": "code",
   "execution_count": 9,
   "id": "1209c2cf",
   "metadata": {},
   "outputs": [
    {
     "ename": "SyntaxError",
     "evalue": "invalid decimal literal (3069656879.py, line 1)",
     "output_type": "error",
     "traceback": [
      "\u001b[1;36m  Cell \u001b[1;32mIn[9], line 1\u001b[1;36m\u001b[0m\n\u001b[1;33m    1namelist=\"roshan\"\u001b[0m\n\u001b[1;37m    ^\u001b[0m\n\u001b[1;31mSyntaxError\u001b[0m\u001b[1;31m:\u001b[0m invalid decimal literal\n"
     ]
    }
   ],
   "source": [
    "1namelist=\"roshan\"\n",
    "1namelist"
   ]
  },
  {
   "cell_type": "markdown",
   "id": "73f38eb2",
   "metadata": {},
   "source": [
    "## variable name should not start with integers"
   ]
  },
  {
   "cell_type": "markdown",
   "id": "991579d0",
   "metadata": {},
   "source": [
    "### variable should not contain any special character"
   ]
  },
  {
   "cell_type": "markdown",
   "id": "a6ea553c",
   "metadata": {},
   "source": [
    "### variable name should start with A-Z,a-z or underscore"
   ]
  },
  {
   "cell_type": "code",
   "execution_count": 15,
   "id": "752921d7",
   "metadata": {},
   "outputs": [
    {
     "data": {
      "text/plain": [
       "'roshan'"
      ]
     },
     "execution_count": 15,
     "metadata": {},
     "output_type": "execute_result"
    }
   ],
   "source": [
    "name_list=\"roshan\"\n",
    "name_list"
   ]
  },
  {
   "cell_type": "code",
   "execution_count": 16,
   "id": "eb491910",
   "metadata": {},
   "outputs": [],
   "source": [
    "name=\"roshan\"\n",
    "name=\"dubey\""
   ]
  },
  {
   "cell_type": "code",
   "execution_count": 17,
   "id": "209e3756",
   "metadata": {},
   "outputs": [
    {
     "name": "stdout",
     "output_type": "stream",
     "text": [
      "dubey\n"
     ]
    }
   ],
   "source": [
    "print(name)"
   ]
  },
  {
   "cell_type": "code",
   "execution_count": 18,
   "id": "850b7af2",
   "metadata": {},
   "outputs": [],
   "source": [
    "x=y=z=5"
   ]
  },
  {
   "cell_type": "code",
   "execution_count": 19,
   "id": "1dc04dda",
   "metadata": {},
   "outputs": [
    {
     "name": "stdout",
     "output_type": "stream",
     "text": [
      "5\n"
     ]
    }
   ],
   "source": [
    "print(x)"
   ]
  },
  {
   "cell_type": "code",
   "execution_count": 20,
   "id": "438788f5",
   "metadata": {},
   "outputs": [
    {
     "name": "stdout",
     "output_type": "stream",
     "text": [
      "5\n"
     ]
    }
   ],
   "source": [
    "print(y)"
   ]
  },
  {
   "cell_type": "code",
   "execution_count": 21,
   "id": "1a0c9118",
   "metadata": {},
   "outputs": [
    {
     "name": "stdout",
     "output_type": "stream",
     "text": [
      "5\n"
     ]
    }
   ],
   "source": [
    "print(z)"
   ]
  },
  {
   "cell_type": "code",
   "execution_count": 22,
   "id": "20339e7b",
   "metadata": {},
   "outputs": [],
   "source": [
    "x,y,z=1,2,3"
   ]
  },
  {
   "cell_type": "code",
   "execution_count": 23,
   "id": "e882fe68",
   "metadata": {},
   "outputs": [
    {
     "name": "stdout",
     "output_type": "stream",
     "text": [
      "1\n"
     ]
    }
   ],
   "source": [
    "print(x)"
   ]
  },
  {
   "cell_type": "code",
   "execution_count": 24,
   "id": "c52d18f1",
   "metadata": {},
   "outputs": [
    {
     "name": "stdout",
     "output_type": "stream",
     "text": [
      "2\n"
     ]
    }
   ],
   "source": [
    "print(y)"
   ]
  },
  {
   "cell_type": "code",
   "execution_count": 25,
   "id": "4393fd0a",
   "metadata": {},
   "outputs": [
    {
     "name": "stdout",
     "output_type": "stream",
     "text": [
      "3\n"
     ]
    }
   ],
   "source": [
    "print(z)"
   ]
  },
  {
   "cell_type": "code",
   "execution_count": null,
   "id": "62439044",
   "metadata": {},
   "outputs": [],
   "source": [
    " ## DATATYPES"
   ]
  },
  {
   "cell_type": "code",
   "execution_count": 26,
   "id": "cb138417",
   "metadata": {},
   "outputs": [],
   "source": [
    "name=\"roshan\""
   ]
  },
  {
   "cell_type": "code",
   "execution_count": 28,
   "id": "eed3e2e1",
   "metadata": {},
   "outputs": [
    {
     "name": "stdout",
     "output_type": "stream",
     "text": [
      "roshan\n"
     ]
    },
    {
     "data": {
      "text/plain": [
       "str"
      ]
     },
     "execution_count": 28,
     "metadata": {},
     "output_type": "execute_result"
    }
   ],
   "source": [
    "print(name)\n",
    "type(name)"
   ]
  },
  {
   "cell_type": "code",
   "execution_count": null,
   "id": "459594a2",
   "metadata": {},
   "outputs": [],
   "source": [
    "## text data type is string data type"
   ]
  },
  {
   "cell_type": "code",
   "execution_count": 30,
   "id": "d8eaec31",
   "metadata": {},
   "outputs": [
    {
     "data": {
      "text/plain": [
       "int"
      ]
     },
     "execution_count": 30,
     "metadata": {},
     "output_type": "execute_result"
    }
   ],
   "source": [
    "x=10\n",
    "type(x)"
   ]
  },
  {
   "cell_type": "code",
   "execution_count": null,
   "id": "72ae99aa",
   "metadata": {},
   "outputs": [],
   "source": [
    "## IF THE NUMBER HAS NO DECIMAL TYPE IT IS INTEGER DATATYPE"
   ]
  },
  {
   "cell_type": "code",
   "execution_count": 34,
   "id": "8ab0332c",
   "metadata": {},
   "outputs": [],
   "source": [
    "x=False"
   ]
  },
  {
   "cell_type": "code",
   "execution_count": 35,
   "id": "6d6ef757",
   "metadata": {},
   "outputs": [
    {
     "data": {
      "text/plain": [
       "bool"
      ]
     },
     "execution_count": 35,
     "metadata": {},
     "output_type": "execute_result"
    }
   ],
   "source": [
    "type(x)"
   ]
  },
  {
   "cell_type": "code",
   "execution_count": null,
   "id": "7587f5fc",
   "metadata": {},
   "outputs": [],
   "source": [
    "## IF TRUE OR FALSE THEN BOOLIAN DATATYPE"
   ]
  },
  {
   "cell_type": "code",
   "execution_count": 10,
   "id": "85578652",
   "metadata": {},
   "outputs": [
    {
     "data": {
      "text/plain": [
       "float"
      ]
     },
     "execution_count": 10,
     "metadata": {},
     "output_type": "execute_result"
    }
   ],
   "source": [
    "x=10.5\n",
    "type(x)"
   ]
  },
  {
   "cell_type": "code",
   "execution_count": null,
   "id": "b0327e1b",
   "metadata": {},
   "outputs": [],
   "source": [
    "## decimal point is float datatype"
   ]
  },
  {
   "cell_type": "markdown",
   "id": "6ceb42da",
   "metadata": {},
   "source": [
    "#### python is case sensitive"
   ]
  },
  {
   "cell_type": "markdown",
   "id": "6924a938",
   "metadata": {},
   "source": [
    "### implicit conversion"
   ]
  },
  {
   "cell_type": "code",
   "execution_count": 11,
   "id": "5ed70fee",
   "metadata": {},
   "outputs": [
    {
     "data": {
      "text/plain": [
       "26"
      ]
     },
     "execution_count": 11,
     "metadata": {},
     "output_type": "execute_result"
    }
   ],
   "source": [
    "x=10\n",
    "y=16\n",
    "x+y"
   ]
  },
  {
   "cell_type": "code",
   "execution_count": 14,
   "id": "2643f930",
   "metadata": {},
   "outputs": [
    {
     "data": {
      "text/plain": [
       "-6"
      ]
     },
     "execution_count": 14,
     "metadata": {},
     "output_type": "execute_result"
    }
   ],
   "source": [
    "x=10\n",
    "y=16\n",
    "x-y\n"
   ]
  },
  {
   "cell_type": "code",
   "execution_count": 15,
   "id": "77a25e6d",
   "metadata": {},
   "outputs": [
    {
     "data": {
      "text/plain": [
       "0.625"
      ]
     },
     "execution_count": 15,
     "metadata": {},
     "output_type": "execute_result"
    }
   ],
   "source": [
    "x=10\n",
    "y=16\n",
    "x/y"
   ]
  },
  {
   "cell_type": "code",
   "execution_count": 16,
   "id": "8ab734d4",
   "metadata": {},
   "outputs": [
    {
     "data": {
      "text/plain": [
       "float"
      ]
     },
     "execution_count": 16,
     "metadata": {},
     "output_type": "execute_result"
    }
   ],
   "source": [
    "type(x/y)"
   ]
  },
  {
   "cell_type": "code",
   "execution_count": 17,
   "id": "90616b61",
   "metadata": {},
   "outputs": [
    {
     "data": {
      "text/plain": [
       "22.5"
      ]
     },
     "execution_count": 17,
     "metadata": {},
     "output_type": "execute_result"
    }
   ],
   "source": [
    "x=4.5\n",
    "y=5\n",
    "x*y"
   ]
  },
  {
   "cell_type": "code",
   "execution_count": 18,
   "id": "79ad27c1",
   "metadata": {},
   "outputs": [],
   "source": [
    "# in implicit conversion the conversion is done by python interpreter without programmer intervention\n"
   ]
  },
  {
   "cell_type": "markdown",
   "id": "70eb6718",
   "metadata": {},
   "source": [
    "## explicit conversion"
   ]
  },
  {
   "cell_type": "code",
   "execution_count": 19,
   "id": "e817ace0",
   "metadata": {},
   "outputs": [
    {
     "ename": "TypeError",
     "evalue": "unsupported operand type(s) for +: 'int' and 'str'",
     "output_type": "error",
     "traceback": [
      "\u001b[1;31m---------------------------------------------------------------------------\u001b[0m",
      "\u001b[1;31mTypeError\u001b[0m                                 Traceback (most recent call last)",
      "Cell \u001b[1;32mIn[19], line 3\u001b[0m\n\u001b[0;32m      1\u001b[0m x\u001b[38;5;241m=\u001b[39m\u001b[38;5;241m10\u001b[39m\n\u001b[0;32m      2\u001b[0m y\u001b[38;5;241m=\u001b[39m\u001b[38;5;124m'\u001b[39m\u001b[38;5;124mds\u001b[39m\u001b[38;5;124m'\u001b[39m\n\u001b[1;32m----> 3\u001b[0m \u001b[43mx\u001b[49m\u001b[38;5;241;43m+\u001b[39;49m\u001b[43my\u001b[49m\n",
      "\u001b[1;31mTypeError\u001b[0m: unsupported operand type(s) for +: 'int' and 'str'"
     ]
    }
   ],
   "source": [
    "x=10\n",
    "y='ds'\n",
    "x+y"
   ]
  },
  {
   "cell_type": "code",
   "execution_count": 20,
   "id": "255613cb",
   "metadata": {},
   "outputs": [
    {
     "data": {
      "text/plain": [
       "'dsda'"
      ]
     },
     "execution_count": 20,
     "metadata": {},
     "output_type": "execute_result"
    }
   ],
   "source": [
    "x=\"ds\"\n",
    "y=\"da\"     ###same data type {implicit conversion}\n",
    "x+y"
   ]
  },
  {
   "cell_type": "code",
   "execution_count": 21,
   "id": "82e56fd4",
   "metadata": {},
   "outputs": [
    {
     "data": {
      "text/plain": [
       "20.5"
      ]
     },
     "execution_count": 21,
     "metadata": {},
     "output_type": "execute_result"
    }
   ],
   "source": [
    "x=10.5\n",
    "y=\"10\"\n",
    "x+int(y)           ### programmar's intervention"
   ]
  },
  {
   "cell_type": "code",
   "execution_count": null,
   "id": "7cd73a3b",
   "metadata": {},
   "outputs": [],
   "source": [
    "int-->float"
   ]
  },
  {
   "cell_type": "code",
   "execution_count": 23,
   "id": "07ee24ed",
   "metadata": {},
   "outputs": [
    {
     "data": {
      "text/plain": [
       "int"
      ]
     },
     "execution_count": 23,
     "metadata": {},
     "output_type": "execute_result"
    }
   ],
   "source": [
    "x=10\n",
    "type(x)"
   ]
  },
  {
   "cell_type": "code",
   "execution_count": 24,
   "id": "2399943c",
   "metadata": {},
   "outputs": [
    {
     "data": {
      "text/plain": [
       "10.0"
      ]
     },
     "execution_count": 24,
     "metadata": {},
     "output_type": "execute_result"
    }
   ],
   "source": [
    "float(x)"
   ]
  },
  {
   "cell_type": "code",
   "execution_count": null,
   "id": "2a9bdbdf",
   "metadata": {},
   "outputs": [],
   "source": [
    "int-->str"
   ]
  },
  {
   "cell_type": "code",
   "execution_count": 25,
   "id": "d60bdcb5",
   "metadata": {},
   "outputs": [
    {
     "data": {
      "text/plain": [
       "'10'"
      ]
     },
     "execution_count": 25,
     "metadata": {},
     "output_type": "execute_result"
    }
   ],
   "source": [
    "str(x)"
   ]
  },
  {
   "cell_type": "code",
   "execution_count": null,
   "id": "3e106117",
   "metadata": {},
   "outputs": [],
   "source": [
    "float-->int"
   ]
  },
  {
   "cell_type": "code",
   "execution_count": 29,
   "id": "37f61292",
   "metadata": {},
   "outputs": [],
   "source": [
    "x=10.56"
   ]
  },
  {
   "cell_type": "code",
   "execution_count": 30,
   "id": "ab29a90d",
   "metadata": {},
   "outputs": [
    {
     "data": {
      "text/plain": [
       "10"
      ]
     },
     "execution_count": 30,
     "metadata": {},
     "output_type": "execute_result"
    }
   ],
   "source": [
    "int(x)"
   ]
  },
  {
   "cell_type": "code",
   "execution_count": null,
   "id": "1de35505",
   "metadata": {},
   "outputs": [],
   "source": [
    "float-->str"
   ]
  },
  {
   "cell_type": "code",
   "execution_count": 31,
   "id": "5f28f074",
   "metadata": {},
   "outputs": [
    {
     "data": {
      "text/plain": [
       "'10.56'"
      ]
     },
     "execution_count": 31,
     "metadata": {},
     "output_type": "execute_result"
    }
   ],
   "source": [
    "str(x)"
   ]
  },
  {
   "cell_type": "code",
   "execution_count": null,
   "id": "d9c7bd3d",
   "metadata": {},
   "outputs": [],
   "source": [
    "str-->int"
   ]
  },
  {
   "cell_type": "code",
   "execution_count": 32,
   "id": "160f11dd",
   "metadata": {},
   "outputs": [],
   "source": [
    "x='hi'"
   ]
  },
  {
   "cell_type": "code",
   "execution_count": 33,
   "id": "79c4274d",
   "metadata": {},
   "outputs": [
    {
     "ename": "ValueError",
     "evalue": "invalid literal for int() with base 10: 'hi'",
     "output_type": "error",
     "traceback": [
      "\u001b[1;31m---------------------------------------------------------------------------\u001b[0m",
      "\u001b[1;31mValueError\u001b[0m                                Traceback (most recent call last)",
      "Cell \u001b[1;32mIn[33], line 1\u001b[0m\n\u001b[1;32m----> 1\u001b[0m \u001b[38;5;28;43mint\u001b[39;49m\u001b[43m(\u001b[49m\u001b[43mx\u001b[49m\u001b[43m)\u001b[49m\n",
      "\u001b[1;31mValueError\u001b[0m: invalid literal for int() with base 10: 'hi'"
     ]
    }
   ],
   "source": [
    "int(x)"
   ]
  },
  {
   "cell_type": "code",
   "execution_count": null,
   "id": "0234141b",
   "metadata": {},
   "outputs": [],
   "source": [
    "str-->float"
   ]
  },
  {
   "cell_type": "code",
   "execution_count": 34,
   "id": "d4d6892c",
   "metadata": {},
   "outputs": [
    {
     "ename": "ValueError",
     "evalue": "could not convert string to float: 'hi'",
     "output_type": "error",
     "traceback": [
      "\u001b[1;31m---------------------------------------------------------------------------\u001b[0m",
      "\u001b[1;31mValueError\u001b[0m                                Traceback (most recent call last)",
      "Cell \u001b[1;32mIn[34], line 1\u001b[0m\n\u001b[1;32m----> 1\u001b[0m \u001b[38;5;28;43mfloat\u001b[39;49m\u001b[43m(\u001b[49m\u001b[43mx\u001b[49m\u001b[43m)\u001b[49m\n",
      "\u001b[1;31mValueError\u001b[0m: could not convert string to float: 'hi'"
     ]
    }
   ],
   "source": [
    "float(x)"
   ]
  },
  {
   "cell_type": "code",
   "execution_count": null,
   "id": "dc33f20a",
   "metadata": {},
   "outputs": [],
   "source": []
  },
  {
   "cell_type": "code",
   "execution_count": null,
   "id": "b18572c6",
   "metadata": {},
   "outputs": [],
   "source": []
  },
  {
   "cell_type": "code",
   "execution_count": null,
   "id": "694ea8b5",
   "metadata": {},
   "outputs": [],
   "source": []
  },
  {
   "cell_type": "code",
   "execution_count": null,
   "id": "a9b1b49d",
   "metadata": {},
   "outputs": [],
   "source": []
  },
  {
   "cell_type": "code",
   "execution_count": null,
   "id": "fba9b09e",
   "metadata": {},
   "outputs": [],
   "source": []
  },
  {
   "cell_type": "code",
   "execution_count": null,
   "id": "c6dd437e",
   "metadata": {},
   "outputs": [],
   "source": []
  },
  {
   "cell_type": "code",
   "execution_count": null,
   "id": "63e81bc4",
   "metadata": {},
   "outputs": [],
   "source": []
  },
  {
   "cell_type": "code",
   "execution_count": null,
   "id": "7dc8cede",
   "metadata": {},
   "outputs": [],
   "source": []
  },
  {
   "cell_type": "code",
   "execution_count": null,
   "id": "ef8eb6a5",
   "metadata": {},
   "outputs": [],
   "source": []
  },
  {
   "cell_type": "code",
   "execution_count": null,
   "id": "570944c1",
   "metadata": {},
   "outputs": [],
   "source": []
  }
 ],
 "metadata": {
  "kernelspec": {
   "display_name": "Python 3 (ipykernel)",
   "language": "python",
   "name": "python3"
  },
  "language_info": {
   "codemirror_mode": {
    "name": "ipython",
    "version": 3
   },
   "file_extension": ".py",
   "mimetype": "text/x-python",
   "name": "python",
   "nbconvert_exporter": "python",
   "pygments_lexer": "ipython3",
   "version": "3.10.9"
  }
 },
 "nbformat": 4,
 "nbformat_minor": 5
}
