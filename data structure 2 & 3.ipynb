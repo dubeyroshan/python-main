{
 "cells": [
  {
   "cell_type": "code",
   "execution_count": 10,
   "id": "1bee1a95",
   "metadata": {},
   "outputs": [
    {
     "name": "stdout",
     "output_type": "stream",
     "text": [
      "num2 is greater\n"
     ]
    }
   ],
   "source": [
    "num1=10\n",
    "num2=34\n",
    "num3=5\n",
    "if(num1>num2):\n",
    "    print(\"num1 is greater\")\n",
    "else:\n",
    "    if(num3>num2):\n",
    "        print(\"num3 is greater\")\n",
    "    else:\n",
    "        if(num2>num3):\n",
    "            print(\"num2 is greater\")\n",
    "          "
   ]
  },
  {
   "cell_type": "code",
   "execution_count": 3,
   "id": "884e2a87",
   "metadata": {},
   "outputs": [
    {
     "name": "stdout",
     "output_type": "stream",
     "text": [
      "65 is greater\n"
     ]
    }
   ],
   "source": [
    "num1=20\n",
    "num2=65\n",
    "num3=15\n",
    "if(num1>num2):\n",
    "    print(num2,\"is greater\")\n",
    "else:\n",
    "    if(num3>num2):\n",
    "        print(num3,\"is greater\")\n",
    "    else:\n",
    "        print(num2,\"is greater\")"
   ]
  },
  {
   "cell_type": "code",
   "execution_count": 4,
   "id": "6915fdf3",
   "metadata": {},
   "outputs": [
    {
     "name": "stdout",
     "output_type": "stream",
     "text": [
      "1900 is elder\n"
     ]
    }
   ],
   "source": [
    "age_student1=1900\n",
    "age_student2=100\n",
    "age_student3=210\n",
    "if(age_student1>age_student3):\n",
    "    print(age_student1,\"is elder\")\n",
    "else:\n",
    "    if(age_student2>age_student3):\n",
    "        print(age_student2,\"is elder\")\n",
    "    else:\n",
    "        print(age_student3,\"is elder\")"
   ]
  },
  {
   "cell_type": "code",
   "execution_count": 6,
   "id": "142d8fa5",
   "metadata": {},
   "outputs": [
    {
     "name": "stdout",
     "output_type": "stream",
     "text": [
      "age_student1 is elder\n"
     ]
    }
   ],
   "source": [
    "age_student1=1900\n",
    "age_student2=100\n",
    "age_student3=210\n",
    "if(age_student1>age_student3):\n",
    "    print(\"age_student1 is elder\")\n",
    "else:\n",
    "    if(age_student2>age_student3):\n",
    "        print(\"age_student2 is elder\")\n",
    "    else:\n",
    "        print(\"age_student3 is elder\")"
   ]
  },
  {
   "cell_type": "code",
   "execution_count": 7,
   "id": "0e5e3186",
   "metadata": {},
   "outputs": [
    {
     "name": "stdout",
     "output_type": "stream",
     "text": [
      "enter user id:ds_py\n",
      "password:abc123\n",
      "passwprd accepted.logged in\n"
     ]
    }
   ],
   "source": [
    "# program to check password for a user id\n",
    "user_id=input(\"enter user id:\")\n",
    "password=input(\"password:\")\n",
    "if(user_id==\"ds_py\"):\n",
    "    if(password==\"abc123\"):\n",
    "        print(\"passwprd accepted.logged in\")\n",
    "    else:\n",
    "        print(\"wrong password. pleaese enter correct password\")"
   ]
  },
  {
   "cell_type": "code",
   "execution_count": 14,
   "id": "ac5fec29",
   "metadata": {},
   "outputs": [
    {
     "name": "stdout",
     "output_type": "stream",
     "text": [
      "wrong password. pleaese enter correct password\n"
     ]
    }
   ],
   "source": [
    "\n",
    "\n",
    "if(user_id==\"ds_py\"):\n",
    "    if(password==\"abc123\"):\n",
    "        print(\"passwprd accepted.logged in\")\n",
    "    else:\n",
    "        print(\"wrong password. pleaese enter correct password\")"
   ]
  },
  {
   "cell_type": "code",
   "execution_count": null,
   "id": "e1d78719",
   "metadata": {},
   "outputs": [],
   "source": []
  },
  {
   "cell_type": "markdown",
   "id": "6207583a",
   "metadata": {},
   "source": [
    "### string"
   ]
  },
  {
   "cell_type": "code",
   "execution_count": 44,
   "id": "5324a103",
   "metadata": {},
   "outputs": [
    {
     "name": "stdout",
     "output_type": "stream",
     "text": [
      "roshan dubey\n"
     ]
    },
    {
     "data": {
      "text/plain": [
       "str"
      ]
     },
     "execution_count": 44,
     "metadata": {},
     "output_type": "execute_result"
    }
   ],
   "source": [
    "text=\"roshan dubey\"\n",
    "print(text)\n",
    "type(text)"
   ]
  },
  {
   "cell_type": "code",
   "execution_count": 18,
   "id": "eac93f77",
   "metadata": {},
   "outputs": [
    {
     "data": {
      "text/plain": [
       "'r'"
      ]
     },
     "execution_count": 18,
     "metadata": {},
     "output_type": "execute_result"
    }
   ],
   "source": [
    "text[0]"
   ]
  },
  {
   "cell_type": "code",
   "execution_count": 19,
   "id": "4ff3466d",
   "metadata": {},
   "outputs": [
    {
     "data": {
      "text/plain": [
       "'y'"
      ]
     },
     "execution_count": 19,
     "metadata": {},
     "output_type": "execute_result"
    }
   ],
   "source": [
    "text[-1]"
   ]
  },
  {
   "cell_type": "code",
   "execution_count": 20,
   "id": "6eb837a7",
   "metadata": {},
   "outputs": [
    {
     "data": {
      "text/plain": [
       "'roshan dubey'"
      ]
     },
     "execution_count": 20,
     "metadata": {},
     "output_type": "execute_result"
    }
   ],
   "source": [
    "text[:]"
   ]
  },
  {
   "cell_type": "code",
   "execution_count": 45,
   "id": "9d48e2e2",
   "metadata": {},
   "outputs": [
    {
     "data": {
      "text/plain": [
       "'oshan'"
      ]
     },
     "execution_count": 45,
     "metadata": {},
     "output_type": "execute_result"
    }
   ],
   "source": [
    "text[1:6]"
   ]
  },
  {
   "cell_type": "code",
   "execution_count": 22,
   "id": "43fb47b2",
   "metadata": {},
   "outputs": [
    {
     "data": {
      "text/plain": [
       "'roshan dubey'"
      ]
     },
     "execution_count": 22,
     "metadata": {},
     "output_type": "execute_result"
    }
   ],
   "source": [
    "text[:len(text)] ### len = length\n",
    "#### space is also counted\n"
   ]
  },
  {
   "cell_type": "code",
   "execution_count": 49,
   "id": "8fe13efc",
   "metadata": {},
   "outputs": [
    {
     "data": {
      "text/plain": [
       "' dubey'"
      ]
     },
     "execution_count": 49,
     "metadata": {},
     "output_type": "execute_result"
    }
   ],
   "source": [
    "text[6:]"
   ]
  },
  {
   "cell_type": "code",
   "execution_count": 48,
   "id": "182eabb4",
   "metadata": {},
   "outputs": [
    {
     "data": {
      "text/plain": [
       "'yebud nahsor'"
      ]
     },
     "execution_count": 48,
     "metadata": {},
     "output_type": "execute_result"
    }
   ],
   "source": [
    "text[::-1]"
   ]
  },
  {
   "cell_type": "code",
   "execution_count": 25,
   "id": "9b37e454",
   "metadata": {},
   "outputs": [
    {
     "data": {
      "text/plain": [
       "'roshan dube'"
      ]
     },
     "execution_count": 25,
     "metadata": {},
     "output_type": "execute_result"
    }
   ],
   "source": [
    "text[:-1]"
   ]
  },
  {
   "cell_type": "code",
   "execution_count": 51,
   "id": "954e692e",
   "metadata": {},
   "outputs": [],
   "source": [
    "text=\"i love python\""
   ]
  },
  {
   "cell_type": "code",
   "execution_count": 27,
   "id": "00d5efaa",
   "metadata": {},
   "outputs": [
    {
     "data": {
      "text/plain": [
       "' love pytho'"
      ]
     },
     "execution_count": 27,
     "metadata": {},
     "output_type": "execute_result"
    }
   ],
   "source": [
    "text[1:-1]"
   ]
  },
  {
   "cell_type": "code",
   "execution_count": 52,
   "id": "b0b28aae",
   "metadata": {},
   "outputs": [
    {
     "data": {
      "text/plain": [
       "' love pytho'"
      ]
     },
     "execution_count": 52,
     "metadata": {},
     "output_type": "execute_result"
    }
   ],
   "source": [
    "text[1:-1]"
   ]
  },
  {
   "cell_type": "code",
   "execution_count": 29,
   "id": "a67721cf",
   "metadata": {},
   "outputs": [
    {
     "data": {
      "text/plain": [
       "'l'"
      ]
     },
     "execution_count": 29,
     "metadata": {},
     "output_type": "execute_result"
    }
   ],
   "source": [
    "text[2]"
   ]
  },
  {
   "cell_type": "code",
   "execution_count": 30,
   "id": "55821853",
   "metadata": {},
   "outputs": [
    {
     "data": {
      "text/plain": [
       "'nohtyp'"
      ]
     },
     "execution_count": 30,
     "metadata": {},
     "output_type": "execute_result"
    }
   ],
   "source": [
    "text[:-7:-1]"
   ]
  },
  {
   "cell_type": "code",
   "execution_count": 31,
   "id": "820bedae",
   "metadata": {},
   "outputs": [],
   "source": [
    "#### reverse the string and displace third last letter\n"
   ]
  },
  {
   "cell_type": "code",
   "execution_count": 53,
   "id": "2fc17a3a",
   "metadata": {},
   "outputs": [
    {
     "data": {
      "text/plain": [
       "'nohtyp evol i'"
      ]
     },
     "execution_count": 53,
     "metadata": {},
     "output_type": "execute_result"
    }
   ],
   "source": [
    "text[::-1]"
   ]
  },
  {
   "cell_type": "code",
   "execution_count": 58,
   "id": "71310440",
   "metadata": {},
   "outputs": [
    {
     "data": {
      "text/plain": [
       "'l'"
      ]
     },
     "execution_count": 58,
     "metadata": {},
     "output_type": "execute_result"
    }
   ],
   "source": [
    "text[::-1][-3]#### reverse the string and displace third last letter"
   ]
  },
  {
   "cell_type": "code",
   "execution_count": 59,
   "id": "30823f4b",
   "metadata": {},
   "outputs": [
    {
     "data": {
      "text/plain": [
       "'i love data science'"
      ]
     },
     "execution_count": 59,
     "metadata": {},
     "output_type": "execute_result"
    }
   ],
   "source": [
    "text.replace(\"python\",\"data science\")"
   ]
  },
  {
   "cell_type": "code",
   "execution_count": 35,
   "id": "b278ebe8",
   "metadata": {},
   "outputs": [
    {
     "data": {
      "text/plain": [
       "'I LOVE PYTHON'"
      ]
     },
     "execution_count": 35,
     "metadata": {},
     "output_type": "execute_result"
    }
   ],
   "source": [
    "text.upper()"
   ]
  },
  {
   "cell_type": "code",
   "execution_count": 36,
   "id": "28f4be8e",
   "metadata": {},
   "outputs": [
    {
     "data": {
      "text/plain": [
       "'i love python'"
      ]
     },
     "execution_count": 36,
     "metadata": {},
     "output_type": "execute_result"
    }
   ],
   "source": [
    "text.lower()"
   ]
  },
  {
   "cell_type": "code",
   "execution_count": 37,
   "id": "182eb7a9",
   "metadata": {},
   "outputs": [
    {
     "data": {
      "text/plain": [
       "'I Love Python'"
      ]
     },
     "execution_count": 37,
     "metadata": {},
     "output_type": "execute_result"
    }
   ],
   "source": [
    "text.title()"
   ]
  },
  {
   "cell_type": "code",
   "execution_count": 38,
   "id": "2226be22",
   "metadata": {},
   "outputs": [
    {
     "data": {
      "text/plain": [
       "'04-06-2023'"
      ]
     },
     "execution_count": 38,
     "metadata": {},
     "output_type": "execute_result"
    }
   ],
   "source": [
    "date=\"04\",\"06\",\"2023\"\n",
    "sep='-'\n",
    "sep.join(date)"
   ]
  },
  {
   "cell_type": "code",
   "execution_count": 60,
   "id": "5ce2119f",
   "metadata": {},
   "outputs": [
    {
     "data": {
      "text/plain": [
       "'04/06/2023'"
      ]
     },
     "execution_count": 60,
     "metadata": {},
     "output_type": "execute_result"
    }
   ],
   "source": [
    "date=\"04\",\"06\",\"2023\"\n",
    "sep='/'\n",
    "sep.join(date)"
   ]
  },
  {
   "cell_type": "code",
   "execution_count": 61,
   "id": "71c7833e",
   "metadata": {},
   "outputs": [
    {
     "data": {
      "text/plain": [
       "'04_06_2023'"
      ]
     },
     "execution_count": 61,
     "metadata": {},
     "output_type": "execute_result"
    }
   ],
   "source": [
    "date=\"04\",\"06\",\"2023\"\n",
    "sep='_'\n",
    "sep.join(date)"
   ]
  },
  {
   "cell_type": "code",
   "execution_count": 67,
   "id": "fb86f75a",
   "metadata": {},
   "outputs": [
    {
     "data": {
      "text/plain": [
       "'i*am*roshan'"
      ]
     },
     "execution_count": 67,
     "metadata": {},
     "output_type": "execute_result"
    }
   ],
   "source": [
    "text=\"**i*am*roshan**\"\n",
    "text.strip(\"*\")"
   ]
  },
  {
   "cell_type": "markdown",
   "id": "1ff87bbf",
   "metadata": {},
   "source": [
    "### list"
   ]
  },
  {
   "cell_type": "code",
   "execution_count": 41,
   "id": "64a1dfb3",
   "metadata": {},
   "outputs": [
    {
     "data": {
      "text/plain": [
       "[1, 2, 3, 4, 'hello']"
      ]
     },
     "execution_count": 41,
     "metadata": {},
     "output_type": "execute_result"
    }
   ],
   "source": [
    "x_list=[1,2,3,4,\"hello\"]\n",
    "x_list                               "
   ]
  },
  {
   "cell_type": "code",
   "execution_count": 68,
   "id": "d2ba7749",
   "metadata": {},
   "outputs": [
    {
     "name": "stdout",
     "output_type": "stream",
     "text": [
      "[1, 2, 3, 4, 'hello']\n"
     ]
    }
   ],
   "source": [
    "print(x_list)"
   ]
  },
  {
   "cell_type": "code",
   "execution_count": 18,
   "id": "faeaa0df",
   "metadata": {},
   "outputs": [
    {
     "data": {
      "text/plain": [
       "list"
      ]
     },
     "execution_count": 18,
     "metadata": {},
     "output_type": "execute_result"
    }
   ],
   "source": [
    "type(x_list)"
   ]
  },
  {
   "cell_type": "markdown",
   "id": "c1b89ee1",
   "metadata": {},
   "source": [
    "### ELEMENTS IN A LIST ARE SEPERATED BY COMMA AND ENCLOSED IN SQUARE BRACKET"
   ]
  },
  {
   "cell_type": "markdown",
   "id": "5db6a57e",
   "metadata": {},
   "source": [
    "### LIST IS HETROGENOUS CAUSE IT CONTAIN MULTIPLE DATA TYPES"
   ]
  },
  {
   "cell_type": "markdown",
   "id": "bdd28e1c",
   "metadata": {},
   "source": [
    "### LIST CAN HAVE DUPLICATES"
   ]
  },
  {
   "cell_type": "code",
   "execution_count": 71,
   "id": "315f1809",
   "metadata": {},
   "outputs": [
    {
     "name": "stdout",
     "output_type": "stream",
     "text": [
      "['physics', 'chem', 'maths']\n"
     ]
    },
    {
     "data": {
      "text/plain": [
       "list"
      ]
     },
     "execution_count": 71,
     "metadata": {},
     "output_type": "execute_result"
    }
   ],
   "source": [
    "book_list=[\"physics\",\"chem\",\"maths\"]\n",
    "print(book_list)\n",
    "type(book_list)"
   ]
  },
  {
   "cell_type": "code",
   "execution_count": 72,
   "id": "b7c466f8",
   "metadata": {},
   "outputs": [
    {
     "data": {
      "text/plain": [
       "['literature', 'english communication']"
      ]
     },
     "execution_count": 72,
     "metadata": {},
     "output_type": "execute_result"
    }
   ],
   "source": [
    "novels=[\"literature\",\"english communication\"]\n",
    "novels"
   ]
  },
  {
   "cell_type": "code",
   "execution_count": 73,
   "id": "6cc7645f",
   "metadata": {},
   "outputs": [
    {
     "data": {
      "text/plain": [
       "['physics', 'chem', 'maths', 'literature', 'english communication']"
      ]
     },
     "execution_count": 73,
     "metadata": {},
     "output_type": "execute_result"
    }
   ],
   "source": [
    "varis=book_list+novels\n",
    "varis"
   ]
  },
  {
   "cell_type": "code",
   "execution_count": 74,
   "id": "3cb3058c",
   "metadata": {},
   "outputs": [
    {
     "data": {
      "text/plain": [
       "['literature', 'english communication', 'physics', 'chem', 'maths']"
      ]
     },
     "execution_count": 74,
     "metadata": {},
     "output_type": "execute_result"
    }
   ],
   "source": [
    "varis=novels+book_list\n",
    "varis"
   ]
  },
  {
   "cell_type": "code",
   "execution_count": 76,
   "id": "9a724f93",
   "metadata": {},
   "outputs": [
    {
     "data": {
      "text/plain": [
       "['literature', 'english communication', 'roshan', 'roshan']"
      ]
     },
     "execution_count": 76,
     "metadata": {},
     "output_type": "execute_result"
    }
   ],
   "source": [
    "novels.append(\"roshan\")\n",
    "novels"
   ]
  },
  {
   "cell_type": "code",
   "execution_count": 77,
   "id": "3ffd3d69",
   "metadata": {},
   "outputs": [
    {
     "data": {
      "text/plain": [
       "['literature', 'roshan', 'english communication', 'roshan', 'roshan']"
      ]
     },
     "execution_count": 77,
     "metadata": {},
     "output_type": "execute_result"
    }
   ],
   "source": [
    "novels.insert(1,\"roshan\")\n",
    "novels"
   ]
  },
  {
   "cell_type": "code",
   "execution_count": 80,
   "id": "091d8ca7",
   "metadata": {},
   "outputs": [],
   "source": [
    "avg_prices=[21,22,44,18,6]\n",
    "avg_prices.sort()"
   ]
  },
  {
   "cell_type": "code",
   "execution_count": 79,
   "id": "4b7686eb",
   "metadata": {},
   "outputs": [
    {
     "data": {
      "text/plain": [
       "[6, 18, 21, 22, 44]"
      ]
     },
     "execution_count": 79,
     "metadata": {},
     "output_type": "execute_result"
    }
   ],
   "source": [
    "avg_prices"
   ]
  },
  {
   "cell_type": "code",
   "execution_count": 81,
   "id": "9629ecfb",
   "metadata": {},
   "outputs": [
    {
     "data": {
      "text/plain": [
       "['apple', 'mango', 'oranges']"
      ]
     },
     "execution_count": 81,
     "metadata": {},
     "output_type": "execute_result"
    }
   ],
   "source": [
    "pro=[\"apple\",\"mango\",\"oranges\"]\n",
    "pro.sort()\n",
    "pro"
   ]
  },
  {
   "cell_type": "code",
   "execution_count": 42,
   "id": "1a0f5f5c",
   "metadata": {},
   "outputs": [
    {
     "data": {
      "text/plain": [
       "[44, 22, 21, 18, 6]"
      ]
     },
     "execution_count": 42,
     "metadata": {},
     "output_type": "execute_result"
    }
   ],
   "source": [
    "avg_prices=[21,22,44,18,6]\n",
    "avg_prices.sort(reverse=True)\n",
    "avg_prices                                         #### for descending order"
   ]
  },
  {
   "cell_type": "code",
   "execution_count": 82,
   "id": "59b38192",
   "metadata": {},
   "outputs": [
    {
     "data": {
      "text/plain": [
       "[6, 18, 21, 22, 44]"
      ]
     },
     "execution_count": 82,
     "metadata": {},
     "output_type": "execute_result"
    }
   ],
   "source": [
    "avg_prices1=sorted(avg_prices)\n",
    "avg_prices1"
   ]
  },
  {
   "cell_type": "code",
   "execution_count": 45,
   "id": "6455b0ff",
   "metadata": {},
   "outputs": [
    {
     "name": "stdout",
     "output_type": "stream",
     "text": [
      "False\n"
     ]
    }
   ],
   "source": [
    "products=[\"dairy\",\"bakery\",\"grocery\",\"clothing\"]\n",
    "print(\"bakery\"not in products)"
   ]
  },
  {
   "cell_type": "code",
   "execution_count": 46,
   "id": "07cf136e",
   "metadata": {},
   "outputs": [
    {
     "name": "stdout",
     "output_type": "stream",
     "text": [
      "True\n"
     ]
    }
   ],
   "source": [
    "print(\"bakery\" in products)"
   ]
  },
  {
   "cell_type": "code",
   "execution_count": 49,
   "id": "f7843722",
   "metadata": {},
   "outputs": [
    {
     "name": "stdout",
     "output_type": "stream",
     "text": [
      "dairy\n",
      "bakery\n",
      "grocery\n",
      "clothing\n"
     ]
    }
   ],
   "source": [
    "for hexa in products:\n",
    "    print(hexa)"
   ]
  },
  {
   "cell_type": "code",
   "execution_count": 50,
   "id": "68a3d98f",
   "metadata": {},
   "outputs": [
    {
     "data": {
      "text/plain": [
       "5"
      ]
     },
     "execution_count": 50,
     "metadata": {},
     "output_type": "execute_result"
    }
   ],
   "source": [
    "prices=[4,6,-4,8,-5]\n",
    "len(prices)"
   ]
  },
  {
   "cell_type": "code",
   "execution_count": 51,
   "id": "fad80e45",
   "metadata": {},
   "outputs": [
    {
     "data": {
      "text/plain": [
       "8"
      ]
     },
     "execution_count": 51,
     "metadata": {},
     "output_type": "execute_result"
    }
   ],
   "source": [
    "max(prices)"
   ]
  },
  {
   "cell_type": "code",
   "execution_count": 52,
   "id": "37c88a70",
   "metadata": {},
   "outputs": [
    {
     "data": {
      "text/plain": [
       "-5"
      ]
     },
     "execution_count": 52,
     "metadata": {},
     "output_type": "execute_result"
    }
   ],
   "source": [
    "min(prices)"
   ]
  },
  {
   "cell_type": "code",
   "execution_count": 53,
   "id": "49b3fd43",
   "metadata": {},
   "outputs": [
    {
     "data": {
      "text/plain": [
       "[]"
      ]
     },
     "execution_count": 53,
     "metadata": {},
     "output_type": "execute_result"
    }
   ],
   "source": [
    "products.clear()\n",
    "products"
   ]
  },
  {
   "cell_type": "code",
   "execution_count": 69,
   "id": "61e050e4",
   "metadata": {},
   "outputs": [],
   "source": [
    "prices=[4,5,6,8,9,3,4,4,4,4]\n"
   ]
  },
  {
   "cell_type": "code",
   "execution_count": 62,
   "id": "faf81bd0",
   "metadata": {},
   "outputs": [
    {
     "data": {
      "text/plain": [
       "5"
      ]
     },
     "execution_count": 62,
     "metadata": {},
     "output_type": "execute_result"
    }
   ],
   "source": [
    "prices.count(4)  ### how many are there\n"
   ]
  },
  {
   "cell_type": "code",
   "execution_count": 55,
   "id": "f490fd68",
   "metadata": {},
   "outputs": [
    {
     "data": {
      "text/plain": [
       "1"
      ]
     },
     "execution_count": 55,
     "metadata": {},
     "output_type": "execute_result"
    }
   ],
   "source": [
    "prices.count(8)"
   ]
  },
  {
   "cell_type": "code",
   "execution_count": 56,
   "id": "1f519051",
   "metadata": {},
   "outputs": [],
   "source": [
    "x=[\"hi\",\"hello\"]"
   ]
  },
  {
   "cell_type": "code",
   "execution_count": 70,
   "id": "415e36a4",
   "metadata": {},
   "outputs": [
    {
     "data": {
      "text/plain": [
       "[4, 5, 6, 8, 9, 3, 4, 4, 4, 4, 'hi', 'hello']"
      ]
     },
     "execution_count": 70,
     "metadata": {},
     "output_type": "execute_result"
    }
   ],
   "source": [
    "prices.extend(x)\n",
    "prices"
   ]
  },
  {
   "cell_type": "code",
   "execution_count": 68,
   "id": "1dae689d",
   "metadata": {},
   "outputs": [
    {
     "data": {
      "text/plain": [
       "11"
      ]
     },
     "execution_count": 68,
     "metadata": {},
     "output_type": "execute_result"
    }
   ],
   "source": [
    "prices.index('hello')"
   ]
  },
  {
   "cell_type": "code",
   "execution_count": 71,
   "id": "580c3e85",
   "metadata": {},
   "outputs": [],
   "source": [
    "prices.insert(3,\"roshan\")"
   ]
  },
  {
   "cell_type": "code",
   "execution_count": 72,
   "id": "66682ec5",
   "metadata": {},
   "outputs": [
    {
     "data": {
      "text/plain": [
       "[4, 5, 6, 'roshan', 8, 9, 3, 4, 4, 4, 4, 'hi', 'hello']"
      ]
     },
     "execution_count": 72,
     "metadata": {},
     "output_type": "execute_result"
    }
   ],
   "source": [
    "prices"
   ]
  },
  {
   "cell_type": "code",
   "execution_count": 73,
   "id": "c64cabd8",
   "metadata": {},
   "outputs": [
    {
     "data": {
      "text/plain": [
       "[4, 5, 'roshan', 8, 9, 3, 4, 4, 4, 4, 'hi', 'hello']"
      ]
     },
     "execution_count": 73,
     "metadata": {},
     "output_type": "execute_result"
    }
   ],
   "source": [
    "prices.pop(2)\n",
    "prices"
   ]
  },
  {
   "cell_type": "code",
   "execution_count": 74,
   "id": "4c94b946",
   "metadata": {},
   "outputs": [
    {
     "data": {
      "text/plain": [
       "[4, 5, 'roshan', 8, 9, 3, 4, 4, 4, 4, 'hi']"
      ]
     },
     "execution_count": 74,
     "metadata": {},
     "output_type": "execute_result"
    }
   ],
   "source": [
    "prices.remove(\"hello\")\n",
    "prices"
   ]
  },
  {
   "cell_type": "code",
   "execution_count": 75,
   "id": "f3c1c837",
   "metadata": {},
   "outputs": [],
   "source": [
    "prices.reverse()"
   ]
  },
  {
   "cell_type": "code",
   "execution_count": 76,
   "id": "424c030c",
   "metadata": {},
   "outputs": [
    {
     "data": {
      "text/plain": [
       "['hi', 4, 4, 4, 4, 3, 9, 8, 'roshan', 5, 4]"
      ]
     },
     "execution_count": 76,
     "metadata": {},
     "output_type": "execute_result"
    }
   ],
   "source": [
    "prices"
   ]
  },
  {
   "cell_type": "code",
   "execution_count": 77,
   "id": "672a64f2",
   "metadata": {},
   "outputs": [
    {
     "data": {
      "text/plain": [
       "['hi', 4, 4]"
      ]
     },
     "execution_count": 77,
     "metadata": {},
     "output_type": "execute_result"
    }
   ],
   "source": [
    "prices[0:3]"
   ]
  },
  {
   "cell_type": "code",
   "execution_count": 78,
   "id": "299f0802",
   "metadata": {},
   "outputs": [],
   "source": [
    "prices=[4,5,6,8,9,3,2]\n"
   ]
  },
  {
   "cell_type": "code",
   "execution_count": 79,
   "id": "dc26ea8c",
   "metadata": {},
   "outputs": [
    {
     "data": {
      "text/plain": [
       "[4, 5, 6]"
      ]
     },
     "execution_count": 79,
     "metadata": {},
     "output_type": "execute_result"
    }
   ],
   "source": [
    "prices[0:3]"
   ]
  },
  {
   "cell_type": "code",
   "execution_count": 80,
   "id": "6049d935",
   "metadata": {},
   "outputs": [
    {
     "data": {
      "text/plain": [
       "2"
      ]
     },
     "execution_count": 80,
     "metadata": {},
     "output_type": "execute_result"
    }
   ],
   "source": [
    "prices[-1]"
   ]
  },
  {
   "cell_type": "code",
   "execution_count": 81,
   "id": "e49f486e",
   "metadata": {},
   "outputs": [
    {
     "data": {
      "text/plain": [
       "[4, 5, 6, 8, 9, 3]"
      ]
     },
     "execution_count": 81,
     "metadata": {},
     "output_type": "execute_result"
    }
   ],
   "source": [
    "prices[0:-1]"
   ]
  },
  {
   "cell_type": "code",
   "execution_count": 82,
   "id": "6ec25f95",
   "metadata": {},
   "outputs": [],
   "source": [
    "prices[0]=\"ds\""
   ]
  },
  {
   "cell_type": "code",
   "execution_count": 83,
   "id": "2e86b886",
   "metadata": {},
   "outputs": [
    {
     "data": {
      "text/plain": [
       "['ds', 5, 6, 8, 9, 3, 2]"
      ]
     },
     "execution_count": 83,
     "metadata": {},
     "output_type": "execute_result"
    }
   ],
   "source": [
    "prices"
   ]
  },
  {
   "cell_type": "code",
   "execution_count": 84,
   "id": "ac09b289",
   "metadata": {},
   "outputs": [],
   "source": [
    "#### list mutable---> change after craeting it that was not discussed"
   ]
  },
  {
   "cell_type": "markdown",
   "id": "a010d92e",
   "metadata": {},
   "source": [
    "## day  4"
   ]
  },
  {
   "cell_type": "markdown",
   "id": "3cc84812",
   "metadata": {},
   "source": [
    "#### TUPLE"
   ]
  },
  {
   "cell_type": "markdown",
   "id": "289cb5a1",
   "metadata": {},
   "source": [
    "#### 1) CONTAINER OBJECT\n",
    "#### 2) HETROGENOUS---> ALLOWS MULITPLE DATA TYPES\n",
    "#### 3) CAN HAVE DUPLICATES\n",
    "#### 4) IMMUTABLE\n",
    "#### 5)ELEMENTS ARE SEPERATED BY COMMA, ENCLOSED IN PARANTHESIS OR WITHOUT ANY BRACKET"
   ]
  },
  {
   "cell_type": "code",
   "execution_count": 94,
   "id": "2deaa3ac",
   "metadata": {},
   "outputs": [],
   "source": [
    "x_tuple=(1,2,3,4,5,\"roshan\",\"dubey\")"
   ]
  },
  {
   "cell_type": "code",
   "execution_count": 86,
   "id": "b0993fc2",
   "metadata": {},
   "outputs": [
    {
     "data": {
      "text/plain": [
       "tuple"
      ]
     },
     "execution_count": 86,
     "metadata": {},
     "output_type": "execute_result"
    }
   ],
   "source": [
    "type(x_tuple)"
   ]
  },
  {
   "cell_type": "code",
   "execution_count": 87,
   "id": "ab50276a",
   "metadata": {},
   "outputs": [
    {
     "name": "stdout",
     "output_type": "stream",
     "text": [
      "(1, 2, 3, 4, 5, 'roshan', 'dubey')\n"
     ]
    }
   ],
   "source": [
    "print(x_tuple)"
   ]
  },
  {
   "cell_type": "code",
   "execution_count": 99,
   "id": "015b3c67",
   "metadata": {},
   "outputs": [
    {
     "ename": "TypeError",
     "evalue": "'<' not supported between instances of 'str' and 'int'",
     "output_type": "error",
     "traceback": [
      "\u001b[1;31m---------------------------------------------------------------------------\u001b[0m",
      "\u001b[1;31mTypeError\u001b[0m                                 Traceback (most recent call last)",
      "Cell \u001b[1;32mIn[99], line 1\u001b[0m\n\u001b[1;32m----> 1\u001b[0m \u001b[38;5;28;43msorted\u001b[39;49m\u001b[43m(\u001b[49m\u001b[43mx_tuple\u001b[49m\u001b[43m)\u001b[49m\n",
      "\u001b[1;31mTypeError\u001b[0m: '<' not supported between instances of 'str' and 'int'"
     ]
    }
   ],
   "source": [
    "sorted(x_tuple)"
   ]
  },
  {
   "cell_type": "code",
   "execution_count": 98,
   "id": "2bb11c78",
   "metadata": {},
   "outputs": [
    {
     "data": {
      "text/plain": [
       "2"
      ]
     },
     "execution_count": 98,
     "metadata": {},
     "output_type": "execute_result"
    }
   ],
   "source": [
    "s_tuple[1]"
   ]
  },
  {
   "cell_type": "code",
   "execution_count": 91,
   "id": "3e97113f",
   "metadata": {},
   "outputs": [
    {
     "ename": "IndexError",
     "evalue": "tuple index out of range",
     "output_type": "error",
     "traceback": [
      "\u001b[1;31m---------------------------------------------------------------------------\u001b[0m",
      "\u001b[1;31mIndexError\u001b[0m                                Traceback (most recent call last)",
      "Cell \u001b[1;32mIn[91], line 1\u001b[0m\n\u001b[1;32m----> 1\u001b[0m \u001b[43ms_tuple\u001b[49m\u001b[43m[\u001b[49m\u001b[38;5;241;43m10\u001b[39;49m\u001b[43m]\u001b[49m\n",
      "\u001b[1;31mIndexError\u001b[0m: tuple index out of range"
     ]
    }
   ],
   "source": [
    "s_tuple[10]"
   ]
  },
  {
   "cell_type": "code",
   "execution_count": 93,
   "id": "486e0362",
   "metadata": {},
   "outputs": [
    {
     "ename": "AttributeError",
     "evalue": "'tuple' object has no attribute 'sort'",
     "output_type": "error",
     "traceback": [
      "\u001b[1;31m---------------------------------------------------------------------------\u001b[0m",
      "\u001b[1;31mAttributeError\u001b[0m                            Traceback (most recent call last)",
      "Cell \u001b[1;32mIn[93], line 1\u001b[0m\n\u001b[1;32m----> 1\u001b[0m \u001b[43ms_tuple\u001b[49m\u001b[38;5;241;43m.\u001b[39;49m\u001b[43msort\u001b[49m()\n",
      "\u001b[1;31mAttributeError\u001b[0m: 'tuple' object has no attribute 'sort'"
     ]
    }
   ],
   "source": [
    "s_tuple.sort()"
   ]
  },
  {
   "cell_type": "code",
   "execution_count": 100,
   "id": "0c68e3a6",
   "metadata": {},
   "outputs": [
    {
     "data": {
      "text/plain": [
       "[1, 2, 3, 4, 5]"
      ]
     },
     "execution_count": 100,
     "metadata": {},
     "output_type": "execute_result"
    }
   ],
   "source": [
    "sorted(s_tuple)"
   ]
  },
  {
   "cell_type": "code",
   "execution_count": 101,
   "id": "367486fe",
   "metadata": {},
   "outputs": [
    {
     "data": {
      "text/plain": [
       "[5, 4, 3, 2, 1]"
      ]
     },
     "execution_count": 101,
     "metadata": {},
     "output_type": "execute_result"
    }
   ],
   "source": [
    "sorted(s_tuple,reverse=True)"
   ]
  },
  {
   "cell_type": "code",
   "execution_count": 106,
   "id": "c956c906",
   "metadata": {},
   "outputs": [
    {
     "data": {
      "text/plain": [
       "(1, 2, 3, 4, 5, 1, 2, 3, 4, 5, 1, 2, 3, 4, 5, 1, 2, 3, 4, 5, 1, 2, 3, 4, 5)"
      ]
     },
     "execution_count": 106,
     "metadata": {},
     "output_type": "execute_result"
    }
   ],
   "source": [
    "n=5\n",
    "rep_tuple=s_tuple*n\n",
    "rep_tuple"
   ]
  },
  {
   "cell_type": "code",
   "execution_count": 108,
   "id": "eb86ef90",
   "metadata": {},
   "outputs": [
    {
     "data": {
      "text/plain": [
       "(1, 2, 3, 4, 5, 8, 7, 9)"
      ]
     },
     "execution_count": 108,
     "metadata": {},
     "output_type": "execute_result"
    }
   ],
   "source": [
    "s1_tup=(1,2,3,4)\n",
    "s2_tup=(5,8,7,9)\n",
    "sam=s1_tup+s2_tup\n",
    "sam"
   ]
  },
  {
   "cell_type": "code",
   "execution_count": 109,
   "id": "0b7288d3",
   "metadata": {},
   "outputs": [
    {
     "name": "stdout",
     "output_type": "stream",
     "text": [
      "False\n"
     ]
    }
   ],
   "source": [
    "print(10 in s1_tup)"
   ]
  },
  {
   "cell_type": "code",
   "execution_count": 110,
   "id": "1bdafd05",
   "metadata": {},
   "outputs": [
    {
     "name": "stdout",
     "output_type": "stream",
     "text": [
      "True\n"
     ]
    }
   ],
   "source": [
    "print(2 in s1_tup)"
   ]
  },
  {
   "cell_type": "code",
   "execution_count": 111,
   "id": "624b0552",
   "metadata": {},
   "outputs": [
    {
     "name": "stdout",
     "output_type": "stream",
     "text": [
      "True\n"
     ]
    }
   ],
   "source": [
    "print(10 not in s1_tup)"
   ]
  },
  {
   "cell_type": "code",
   "execution_count": 127,
   "id": "2787d77e",
   "metadata": {},
   "outputs": [
    {
     "name": "stdout",
     "output_type": "stream",
     "text": [
      "python\n",
      "r\n",
      "excel\n"
     ]
    }
   ],
   "source": [
    "tools=(\"python\",\"r\",\"excel\")\n",
    "for every_tool in tools:\n",
    "    print(every_tool)       ##iteration"
   ]
  },
  {
   "cell_type": "code",
   "execution_count": 128,
   "id": "18b1d40e",
   "metadata": {},
   "outputs": [
    {
     "data": {
      "text/plain": [
       "3"
      ]
     },
     "execution_count": 128,
     "metadata": {},
     "output_type": "execute_result"
    }
   ],
   "source": [
    "len(tools)"
   ]
  },
  {
   "cell_type": "code",
   "execution_count": 129,
   "id": "49d13879",
   "metadata": {},
   "outputs": [],
   "source": [
    "prices=(100,200,213,132,167,789)"
   ]
  },
  {
   "cell_type": "code",
   "execution_count": 130,
   "id": "1d55cfb1",
   "metadata": {},
   "outputs": [
    {
     "data": {
      "text/plain": [
       "789"
      ]
     },
     "execution_count": 130,
     "metadata": {},
     "output_type": "execute_result"
    }
   ],
   "source": [
    "max(prices)"
   ]
  },
  {
   "cell_type": "code",
   "execution_count": 131,
   "id": "a2907ef4",
   "metadata": {},
   "outputs": [
    {
     "data": {
      "text/plain": [
       "100"
      ]
     },
     "execution_count": 131,
     "metadata": {},
     "output_type": "execute_result"
    }
   ],
   "source": [
    "min(prices)"
   ]
  },
  {
   "cell_type": "code",
   "execution_count": null,
   "id": "f5f1a601",
   "metadata": {},
   "outputs": [],
   "source": [
    "prices=(100,200,213,132,167,789)"
   ]
  },
  {
   "cell_type": "code",
   "execution_count": 132,
   "id": "5bc94514",
   "metadata": {},
   "outputs": [
    {
     "ename": "AttributeError",
     "evalue": "'tuple' object has no attribute 'append'",
     "output_type": "error",
     "traceback": [
      "\u001b[1;31m---------------------------------------------------------------------------\u001b[0m",
      "\u001b[1;31mAttributeError\u001b[0m                            Traceback (most recent call last)",
      "Cell \u001b[1;32mIn[132], line 1\u001b[0m\n\u001b[1;32m----> 1\u001b[0m \u001b[43mprices\u001b[49m\u001b[38;5;241;43m.\u001b[39;49m\u001b[43mappend\u001b[49m(\u001b[38;5;241m50\u001b[39m)\n\u001b[0;32m      2\u001b[0m prices\n",
      "\u001b[1;31mAttributeError\u001b[0m: 'tuple' object has no attribute 'append'"
     ]
    }
   ],
   "source": [
    "prices.append(50)\n",
    "prices"
   ]
  },
  {
   "cell_type": "code",
   "execution_count": 133,
   "id": "c2934371",
   "metadata": {},
   "outputs": [
    {
     "ename": "AttributeError",
     "evalue": "'int' object has no attribute 'append'",
     "output_type": "error",
     "traceback": [
      "\u001b[1;31m---------------------------------------------------------------------------\u001b[0m",
      "\u001b[1;31mAttributeError\u001b[0m                            Traceback (most recent call last)",
      "Cell \u001b[1;32mIn[133], line 1\u001b[0m\n\u001b[1;32m----> 1\u001b[0m \u001b[43mprices\u001b[49m\u001b[43m[\u001b[49m\u001b[38;5;241;43m2\u001b[39;49m\u001b[43m]\u001b[49m\u001b[38;5;241;43m.\u001b[39;49m\u001b[43mappend\u001b[49m(\u001b[38;5;241m50\u001b[39m)\n",
      "\u001b[1;31mAttributeError\u001b[0m: 'int' object has no attribute 'append'"
     ]
    }
   ],
   "source": [
    "prices[2].append(50)"
   ]
  },
  {
   "cell_type": "code",
   "execution_count": 2,
   "id": "b1e118f3",
   "metadata": {},
   "outputs": [
    {
     "data": {
      "text/plain": [
       "(100, 200, 213, 132, 167, 789, [1, 2, 3, 50])"
      ]
     },
     "execution_count": 2,
     "metadata": {},
     "output_type": "execute_result"
    }
   ],
   "source": [
    "prices=(100,200,213,132,167,789,[1,2,3])\n",
    "prices[6].append(50)\n",
    "prices"
   ]
  },
  {
   "cell_type": "code",
   "execution_count": 141,
   "id": "5dbb2f66",
   "metadata": {},
   "outputs": [
    {
     "data": {
      "text/plain": [
       "(100, 200, 213)"
      ]
     },
     "execution_count": 141,
     "metadata": {},
     "output_type": "execute_result"
    }
   ],
   "source": [
    "prices[0:3]"
   ]
  },
  {
   "cell_type": "code",
   "execution_count": 1,
   "id": "6fe1a7da",
   "metadata": {},
   "outputs": [
    {
     "data": {
      "text/plain": [
       "(1, 2, 3, 4, 5, 6, 7, 8, 9, 10)"
      ]
     },
     "execution_count": 1,
     "metadata": {},
     "output_type": "execute_result"
    }
   ],
   "source": [
    "tuple(range(1,11))"
   ]
  },
  {
   "cell_type": "code",
   "execution_count": 3,
   "id": "2ea108bb",
   "metadata": {},
   "outputs": [
    {
     "name": "stdout",
     "output_type": "stream",
     "text": [
      "<class 'str'>\n"
     ]
    }
   ],
   "source": [
    "tuple1=('apple')\n",
    "print(type(tuple1))"
   ]
  },
  {
   "cell_type": "code",
   "execution_count": 5,
   "id": "b788e744",
   "metadata": {},
   "outputs": [
    {
     "name": "stdout",
     "output_type": "stream",
     "text": [
      "('apple', 'kiwi', 'cherry')\n"
     ]
    }
   ],
   "source": [
    "x=(\"apple\",\"banana\",\"cherry\")\n",
    "y=list(x)\n",
    "y[1]=\"kiwi\"\n",
    "x=tuple(y)\n",
    "print(x)"
   ]
  },
  {
   "cell_type": "markdown",
   "id": "8f3f9068",
   "metadata": {},
   "source": [
    "### Dictionary"
   ]
  },
  {
   "cell_type": "markdown",
   "id": "3226c9c2",
   "metadata": {},
   "source": [
    "#### 1) key value pair\n",
    "#### 2) {}\n",
    "#### 3) For Indexing- square bracket\n",
    "#### 4) Mutable\n"
   ]
  },
  {
   "cell_type": "code",
   "execution_count": 2,
   "id": "6a5fc269",
   "metadata": {},
   "outputs": [],
   "source": [
    "dict1={'name':\"arun\",\"hobbies\":['painting','singing','cooking'],1:23}"
   ]
  },
  {
   "cell_type": "code",
   "execution_count": 3,
   "id": "5807796b",
   "metadata": {},
   "outputs": [
    {
     "data": {
      "text/plain": [
       "{'name': 'arun', 'hobbies': ['painting', 'singing', 'cooking'], 1: 23}"
      ]
     },
     "execution_count": 3,
     "metadata": {},
     "output_type": "execute_result"
    }
   ],
   "source": [
    "dict1 "
   ]
  },
  {
   "cell_type": "markdown",
   "id": "70737535",
   "metadata": {},
   "source": [
    "  #### before ':' are called keys\n"
   ]
  },
  {
   "cell_type": "code",
   "execution_count": 4,
   "id": "b788e633",
   "metadata": {},
   "outputs": [
    {
     "ename": "NameError",
     "evalue": "name 'keys' is not defined",
     "output_type": "error",
     "traceback": [
      "\u001b[1;31m---------------------------------------------------------------------------\u001b[0m",
      "\u001b[1;31mNameError\u001b[0m                                 Traceback (most recent call last)",
      "Cell \u001b[1;32mIn[4], line 1\u001b[0m\n\u001b[1;32m----> 1\u001b[0m dict1[\u001b[43mkeys\u001b[49m]\n",
      "\u001b[1;31mNameError\u001b[0m: name 'keys' is not defined"
     ]
    }
   ],
   "source": [
    "dict1[keys]"
   ]
  },
  {
   "cell_type": "code",
   "execution_count": 5,
   "id": "57e47d56",
   "metadata": {},
   "outputs": [
    {
     "data": {
      "text/plain": [
       "dict_keys(['name', 'hobbies', 1])"
      ]
     },
     "execution_count": 5,
     "metadata": {},
     "output_type": "execute_result"
    }
   ],
   "source": [
    "dict1.keys()"
   ]
  },
  {
   "cell_type": "code",
   "execution_count": 6,
   "id": "ab10f8d2",
   "metadata": {},
   "outputs": [
    {
     "data": {
      "text/plain": [
       "{'name': 'mukund', 'hobbies': ['painting', 'singing', 'cooking'], 1: 23}"
      ]
     },
     "execution_count": 6,
     "metadata": {},
     "output_type": "execute_result"
    }
   ],
   "source": [
    "dict1['name']=\"mukund\"  ### Mutable\n",
    "dict1"
   ]
  },
  {
   "cell_type": "code",
   "execution_count": 7,
   "id": "2f952faf",
   "metadata": {},
   "outputs": [],
   "source": [
    "del dict1['name']"
   ]
  },
  {
   "cell_type": "code",
   "execution_count": 8,
   "id": "34b8bbca",
   "metadata": {},
   "outputs": [
    {
     "data": {
      "text/plain": [
       "{'hobbies': ['painting', 'singing', 'cooking'], 1: 23}"
      ]
     },
     "execution_count": 8,
     "metadata": {},
     "output_type": "execute_result"
    }
   ],
   "source": [
    "dict1"
   ]
  },
  {
   "cell_type": "code",
   "execution_count": 9,
   "id": "dd25b565",
   "metadata": {},
   "outputs": [],
   "source": [
    "dict1.update({\"class\":\"ds\"})"
   ]
  },
  {
   "cell_type": "code",
   "execution_count": 10,
   "id": "f00a2484",
   "metadata": {},
   "outputs": [
    {
     "data": {
      "text/plain": [
       "{'hobbies': ['painting', 'singing', 'cooking'], 1: 23, 'class': 'ds'}"
      ]
     },
     "execution_count": 10,
     "metadata": {},
     "output_type": "execute_result"
    }
   ],
   "source": [
    "dict1"
   ]
  },
  {
   "cell_type": "code",
   "execution_count": 14,
   "id": "357726f6",
   "metadata": {},
   "outputs": [
    {
     "data": {
      "text/plain": [
       "{'hobbies': ['painting', 'singing', 'cooking'],\n",
       " 1: 23,\n",
       " 'class': 'bsc',\n",
       " 'name': 'roshan'}"
      ]
     },
     "execution_count": 14,
     "metadata": {},
     "output_type": "execute_result"
    }
   ],
   "source": [
    "dict1.update({\"name\":\"roshan\",\"class\":\"bsc\"})\n",
    "dict1"
   ]
  },
  {
   "cell_type": "code",
   "execution_count": 15,
   "id": "51e63b13",
   "metadata": {},
   "outputs": [
    {
     "data": {
      "text/plain": [
       "4"
      ]
     },
     "execution_count": 15,
     "metadata": {},
     "output_type": "execute_result"
    }
   ],
   "source": [
    "len(dict1)"
   ]
  },
  {
   "cell_type": "code",
   "execution_count": 16,
   "id": "478720bf",
   "metadata": {},
   "outputs": [
    {
     "data": {
      "text/plain": [
       "dict_items([('hobbies', ['painting', 'singing', 'cooking']), (1, 23), ('class', 'bsc'), ('name', 'roshan')])"
      ]
     },
     "execution_count": 16,
     "metadata": {},
     "output_type": "execute_result"
    }
   ],
   "source": [
    "dict1.items()"
   ]
  },
  {
   "cell_type": "code",
   "execution_count": 18,
   "id": "f2d82ed4",
   "metadata": {},
   "outputs": [
    {
     "data": {
      "text/plain": [
       "['painting', 'singing', 'cooking']"
      ]
     },
     "execution_count": 18,
     "metadata": {},
     "output_type": "execute_result"
    }
   ],
   "source": [
    "dict1.get(\"hobbies\")"
   ]
  },
  {
   "cell_type": "code",
   "execution_count": 21,
   "id": "793bc0af",
   "metadata": {},
   "outputs": [
    {
     "data": {
      "text/plain": [
       "'bsc'"
      ]
     },
     "execution_count": 21,
     "metadata": {},
     "output_type": "execute_result"
    }
   ],
   "source": [
    "dict1.get(\"class\")\n"
   ]
  },
  {
   "cell_type": "code",
   "execution_count": null,
   "id": "d716d1be",
   "metadata": {},
   "outputs": [],
   "source": [
    "#### Sets"
   ]
  },
  {
   "cell_type": "code",
   "execution_count": 23,
   "id": "3d827921",
   "metadata": {},
   "outputs": [
    {
     "data": {
      "text/plain": [
       "{1, 1.5, 13.4, 2, 3, 4, 44.5, 5, 6, 9.5, 'hello', 'hi'}"
      ]
     },
     "execution_count": 23,
     "metadata": {},
     "output_type": "execute_result"
    }
   ],
   "source": [
    "\n",
    "x_sets={1,1,4,5,2,3,4,5,6,1.5,9.5,13.4,44.5,'hi','hello'} ##donot allows duplication\n",
    "x_sets"
   ]
  },
  {
   "cell_type": "code",
   "execution_count": 25,
   "id": "462695d9",
   "metadata": {},
   "outputs": [],
   "source": [
    "x_sets.update([0])"
   ]
  },
  {
   "cell_type": "code",
   "execution_count": 26,
   "id": "8d8afe6c",
   "metadata": {},
   "outputs": [
    {
     "data": {
      "text/plain": [
       "{0, 1, 1.5, 13.4, 2, 3, 4, 44.5, 5, 6, 9.5, 'hello', 'hi'}"
      ]
     },
     "execution_count": 26,
     "metadata": {},
     "output_type": "execute_result"
    }
   ],
   "source": [
    "x_sets"
   ]
  },
  {
   "cell_type": "code",
   "execution_count": 27,
   "id": "a5cfd71a",
   "metadata": {},
   "outputs": [
    {
     "ename": "TypeError",
     "evalue": "'set' object is not subscriptable",
     "output_type": "error",
     "traceback": [
      "\u001b[1;31m---------------------------------------------------------------------------\u001b[0m",
      "\u001b[1;31mTypeError\u001b[0m                                 Traceback (most recent call last)",
      "Cell \u001b[1;32mIn[27], line 1\u001b[0m\n\u001b[1;32m----> 1\u001b[0m \u001b[43mx_sets\u001b[49m\u001b[43m[\u001b[49m\u001b[38;5;241;43m0\u001b[39;49m\u001b[43m]\u001b[49m\n",
      "\u001b[1;31mTypeError\u001b[0m: 'set' object is not subscriptable"
     ]
    }
   ],
   "source": [
    "x_sets[0]"
   ]
  },
  {
   "cell_type": "code",
   "execution_count": 28,
   "id": "780eb3de",
   "metadata": {},
   "outputs": [
    {
     "ename": "TypeError",
     "evalue": "'set' object does not support item assignment",
     "output_type": "error",
     "traceback": [
      "\u001b[1;31m---------------------------------------------------------------------------\u001b[0m",
      "\u001b[1;31mTypeError\u001b[0m                                 Traceback (most recent call last)",
      "Cell \u001b[1;32mIn[28], line 1\u001b[0m\n\u001b[1;32m----> 1\u001b[0m x_sets[\u001b[38;5;241m0\u001b[39m]\u001b[38;5;241m=\u001b[39m\u001b[38;5;241m1\u001b[39m\n",
      "\u001b[1;31mTypeError\u001b[0m: 'set' object does not support item assignment"
     ]
    }
   ],
   "source": [
    "x_sets[0]=1"
   ]
  },
  {
   "cell_type": "code",
   "execution_count": 30,
   "id": "c271768f",
   "metadata": {},
   "outputs": [
    {
     "data": {
      "text/plain": [
       "{0, 1, 1.5, 100, 13.4, 2, 3, 4, 44.5, 5, 6, 9.5, 'hello', 'hi'}"
      ]
     },
     "execution_count": 30,
     "metadata": {},
     "output_type": "execute_result"
    }
   ],
   "source": [
    "x_sets.add(100)\n",
    "x_sets"
   ]
  },
  {
   "cell_type": "code",
   "execution_count": 33,
   "id": "c1114bb6",
   "metadata": {},
   "outputs": [
    {
     "data": {
      "text/plain": [
       "{0, 1, 1.5, 2, 3, 4, 44.5, 5, 6, 9.5, 'hello', 'hi'}"
      ]
     },
     "execution_count": 33,
     "metadata": {},
     "output_type": "execute_result"
    }
   ],
   "source": [
    "x_sets.remove(13.4)\n",
    "x_sets"
   ]
  },
  {
   "cell_type": "markdown",
   "id": "fec208e0",
   "metadata": {},
   "source": [
    "#### Sets do not allow dupicates\n",
    "#### We cannot retrieve the set using index \n",
    "#### Sets is mutable \n",
    "#### ordered- First place"
   ]
  },
  {
   "cell_type": "code",
   "execution_count": 40,
   "id": "fcc0eb50",
   "metadata": {},
   "outputs": [],
   "source": [
    "### loops"
   ]
  },
  {
   "cell_type": "code",
   "execution_count": null,
   "id": "a8a70d61",
   "metadata": {},
   "outputs": [],
   "source": [
    "### while loops"
   ]
  },
  {
   "cell_type": "code",
   "execution_count": 49,
   "id": "210f1376",
   "metadata": {},
   "outputs": [
    {
     "name": "stdout",
     "output_type": "stream",
     "text": [
      "addition is:\n"
     ]
    },
    {
     "data": {
      "text/plain": [
       "55"
      ]
     },
     "execution_count": 49,
     "metadata": {},
     "output_type": "execute_result"
    }
   ],
   "source": [
    "# program to find the sumation of all natural numbers till 10\n",
    "num=10\n",
    "# initiate addition and counter\n",
    "addition=0\n",
    "i=1\n",
    "while(i<=num):    # while loop with termination condition\n",
    "    addition=addition+i\n",
    "    i=i+1         # incrementing the counter by 1 everytime loop is executed\n",
    "# print the sum\n",
    "print(\"addition is:\")\n",
    "addition\n"
   ]
  },
  {
   "cell_type": "code",
   "execution_count": 58,
   "id": "f244e518",
   "metadata": {},
   "outputs": [
    {
     "name": "stdout",
     "output_type": "stream",
     "text": [
      "addition is:\n"
     ]
    },
    {
     "data": {
      "text/plain": [
       "55"
      ]
     },
     "execution_count": 58,
     "metadata": {},
     "output_type": "execute_result"
    }
   ],
   "source": [
    "# program to find the sumation of all natural numbers till 10 using for loop\n",
    "num= range(0,11)\n",
    "\n",
    "addition=0\n",
    "for i in num:      # i takes one value at a time from 1 till every single iteration\n",
    "\n",
    "    addition=addition+i\n",
    " \n",
    "### print the sum\n",
    "print(\"addition is:\")\n",
    "addition\n"
   ]
  },
  {
   "cell_type": "code",
   "execution_count": 62,
   "id": "56382fbf",
   "metadata": {},
   "outputs": [
    {
     "name": "stdout",
     "output_type": "stream",
     "text": [
      "i\n",
      "n\n",
      "f\n",
      "o\n",
      "t\n",
      "a\n",
      "i\n",
      "n\n",
      "m\n",
      "the for loop stopped executing\n"
     ]
    }
   ],
   "source": [
    "###  declare a string variable\n",
    "y='infotainment'\n",
    "for letter in y:  # letter take one letter at a time for every iteration over the string\n",
    "    if letter=='e':  # condition to stop the execution of the loop\n",
    "        break\n",
    "    print(letter)\n",
    "print('the for loop stopped executing')"
   ]
  },
  {
   "cell_type": "code",
   "execution_count": 63,
   "id": "116e138c",
   "metadata": {},
   "outputs": [
    {
     "name": "stdout",
     "output_type": "stream",
     "text": [
      "the for loop stopped executing\n"
     ]
    }
   ],
   "source": [
    "###  declare a string variable\n",
    "y='infotainment'\n",
    "for letter in y:\n",
    "    if letter:='e':\n",
    "        break\n",
    "    print(letter)\n",
    "print('the for loop stopped executing')"
   ]
  },
  {
   "cell_type": "code",
   "execution_count": 68,
   "id": "0d00eeee",
   "metadata": {},
   "outputs": [
    {
     "name": "stdout",
     "output_type": "stream",
     "text": [
      "i\n",
      "n\n",
      "f\n",
      "o\n",
      "t\n",
      "a\n",
      "i\n",
      "n\n",
      "m\n",
      "e\n",
      "n\n",
      "t\n",
      "the letter skipped space here\n",
      "h\n",
      "u\n",
      "t\n"
     ]
    }
   ],
   "source": [
    "y='infotainment hut'\n",
    "for letter in y:\n",
    "    if letter==' ':\n",
    "        print('the letter skipped space here')\n",
    "        continue\n",
    "    print(letter)\n"
   ]
  },
  {
   "cell_type": "code",
   "execution_count": null,
   "id": "fa507952",
   "metadata": {},
   "outputs": [],
   "source": [
    "### outer loop"
   ]
  },
  {
   "cell_type": "code",
   "execution_count": 71,
   "id": "b07a137e",
   "metadata": {},
   "outputs": [
    {
     "name": "stdout",
     "output_type": "stream",
     "text": [
      "enter number of levels10\n",
      "1 \n",
      "\n",
      "2 2 \n",
      "\n",
      "3 3 3 \n",
      "\n",
      "4 4 4 4 \n",
      "\n",
      "5 5 5 5 5 \n",
      "\n",
      "6 6 6 6 6 6 \n",
      "\n",
      "7 7 7 7 7 7 7 \n",
      "\n",
      "8 8 8 8 8 8 8 8 \n",
      "\n",
      "9 9 9 9 9 9 9 9 9 \n",
      "\n",
      "10 10 10 10 10 10 10 10 10 10 \n",
      "\n"
     ]
    }
   ],
   "source": [
    "# print a number pattern using a for loop and range function\n",
    "# take levels from user\n",
    "levels=int(input('enter number of levels'))\n",
    "for level in range(1,levels+1):\n",
    "    for num in range(level):\n",
    "        print(level,end=' ') # print numbers\n",
    "        # new line after row to display pattern clearly\n",
    "    print('\\n')"
   ]
  },
  {
   "cell_type": "code",
   "execution_count": null,
   "id": "66dccab0",
   "metadata": {},
   "outputs": [],
   "source": []
  },
  {
   "cell_type": "code",
   "execution_count": null,
   "id": "6b0eebf1",
   "metadata": {},
   "outputs": [],
   "source": []
  },
  {
   "cell_type": "code",
   "execution_count": null,
   "id": "412075ac",
   "metadata": {},
   "outputs": [],
   "source": []
  },
  {
   "cell_type": "code",
   "execution_count": null,
   "id": "23ba0353",
   "metadata": {},
   "outputs": [],
   "source": []
  },
  {
   "cell_type": "code",
   "execution_count": null,
   "id": "0ea1b67e",
   "metadata": {},
   "outputs": [],
   "source": []
  },
  {
   "cell_type": "code",
   "execution_count": null,
   "id": "f35186aa",
   "metadata": {},
   "outputs": [],
   "source": []
  },
  {
   "cell_type": "code",
   "execution_count": null,
   "id": "220c4d4c",
   "metadata": {},
   "outputs": [],
   "source": []
  }
 ],
 "metadata": {
  "kernelspec": {
   "display_name": "Python 3 (ipykernel)",
   "language": "python",
   "name": "python3"
  },
  "language_info": {
   "codemirror_mode": {
    "name": "ipython",
    "version": 3
   },
   "file_extension": ".py",
   "mimetype": "text/x-python",
   "name": "python",
   "nbconvert_exporter": "python",
   "pygments_lexer": "ipython3",
   "version": "3.10.9"
  }
 },
 "nbformat": 4,
 "nbformat_minor": 5
}
